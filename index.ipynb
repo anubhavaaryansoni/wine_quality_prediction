{
 "cells": [
  {
   "cell_type": "markdown",
   "metadata": {},
   "source": [
    "## Imports"
   ]
  },
  {
   "cell_type": "code",
   "execution_count": 292,
   "metadata": {},
   "outputs": [],
   "source": [
    "import numpy as np\n",
    "import pandas as pd\n",
    "import seaborn as sns\n",
    "import matplotlib.pyplot as plt"
   ]
  },
  {
   "cell_type": "markdown",
   "metadata": {},
   "source": [
    "## Importing dataset"
   ]
  },
  {
   "cell_type": "code",
   "execution_count": 293,
   "metadata": {},
   "outputs": [
    {
     "data": {
      "text/html": [
       "<div>\n",
       "<style scoped>\n",
       "    .dataframe tbody tr th:only-of-type {\n",
       "        vertical-align: middle;\n",
       "    }\n",
       "\n",
       "    .dataframe tbody tr th {\n",
       "        vertical-align: top;\n",
       "    }\n",
       "\n",
       "    .dataframe thead th {\n",
       "        text-align: right;\n",
       "    }\n",
       "</style>\n",
       "<table border=\"1\" class=\"dataframe\">\n",
       "  <thead>\n",
       "    <tr style=\"text-align: right;\">\n",
       "      <th></th>\n",
       "      <th>fixed acidity</th>\n",
       "      <th>volatile acidity</th>\n",
       "      <th>citric acid</th>\n",
       "      <th>residual sugar</th>\n",
       "      <th>chlorides</th>\n",
       "      <th>free sulfur dioxide</th>\n",
       "      <th>total sulfur dioxide</th>\n",
       "      <th>density</th>\n",
       "      <th>pH</th>\n",
       "      <th>sulphates</th>\n",
       "      <th>alcohol</th>\n",
       "      <th>quality</th>\n",
       "      <th>Id</th>\n",
       "    </tr>\n",
       "  </thead>\n",
       "  <tbody>\n",
       "    <tr>\n",
       "      <th>0</th>\n",
       "      <td>7.40</td>\n",
       "      <td>0.70</td>\n",
       "      <td>0.00</td>\n",
       "      <td>1.90</td>\n",
       "      <td>0.08</td>\n",
       "      <td>11.00</td>\n",
       "      <td>34.00</td>\n",
       "      <td>1.00</td>\n",
       "      <td>3.51</td>\n",
       "      <td>0.56</td>\n",
       "      <td>9.40</td>\n",
       "      <td>5</td>\n",
       "      <td>0</td>\n",
       "    </tr>\n",
       "    <tr>\n",
       "      <th>1</th>\n",
       "      <td>7.80</td>\n",
       "      <td>0.88</td>\n",
       "      <td>0.00</td>\n",
       "      <td>2.60</td>\n",
       "      <td>0.10</td>\n",
       "      <td>25.00</td>\n",
       "      <td>67.00</td>\n",
       "      <td>1.00</td>\n",
       "      <td>3.20</td>\n",
       "      <td>0.68</td>\n",
       "      <td>9.80</td>\n",
       "      <td>5</td>\n",
       "      <td>1</td>\n",
       "    </tr>\n",
       "    <tr>\n",
       "      <th>2</th>\n",
       "      <td>7.80</td>\n",
       "      <td>0.76</td>\n",
       "      <td>0.04</td>\n",
       "      <td>2.30</td>\n",
       "      <td>0.09</td>\n",
       "      <td>15.00</td>\n",
       "      <td>54.00</td>\n",
       "      <td>1.00</td>\n",
       "      <td>3.26</td>\n",
       "      <td>0.65</td>\n",
       "      <td>9.80</td>\n",
       "      <td>5</td>\n",
       "      <td>2</td>\n",
       "    </tr>\n",
       "    <tr>\n",
       "      <th>3</th>\n",
       "      <td>11.20</td>\n",
       "      <td>0.28</td>\n",
       "      <td>0.56</td>\n",
       "      <td>1.90</td>\n",
       "      <td>0.07</td>\n",
       "      <td>17.00</td>\n",
       "      <td>60.00</td>\n",
       "      <td>1.00</td>\n",
       "      <td>3.16</td>\n",
       "      <td>0.58</td>\n",
       "      <td>9.80</td>\n",
       "      <td>6</td>\n",
       "      <td>3</td>\n",
       "    </tr>\n",
       "    <tr>\n",
       "      <th>4</th>\n",
       "      <td>7.40</td>\n",
       "      <td>0.70</td>\n",
       "      <td>0.00</td>\n",
       "      <td>1.90</td>\n",
       "      <td>0.08</td>\n",
       "      <td>11.00</td>\n",
       "      <td>34.00</td>\n",
       "      <td>1.00</td>\n",
       "      <td>3.51</td>\n",
       "      <td>0.56</td>\n",
       "      <td>9.40</td>\n",
       "      <td>5</td>\n",
       "      <td>4</td>\n",
       "    </tr>\n",
       "  </tbody>\n",
       "</table>\n",
       "</div>"
      ],
      "text/plain": [
       "   fixed acidity  volatile acidity  citric acid  residual sugar  chlorides  \\\n",
       "0           7.40              0.70         0.00            1.90       0.08   \n",
       "1           7.80              0.88         0.00            2.60       0.10   \n",
       "2           7.80              0.76         0.04            2.30       0.09   \n",
       "3          11.20              0.28         0.56            1.90       0.07   \n",
       "4           7.40              0.70         0.00            1.90       0.08   \n",
       "\n",
       "   free sulfur dioxide  total sulfur dioxide  density   pH  sulphates  \\\n",
       "0                11.00                 34.00     1.00 3.51       0.56   \n",
       "1                25.00                 67.00     1.00 3.20       0.68   \n",
       "2                15.00                 54.00     1.00 3.26       0.65   \n",
       "3                17.00                 60.00     1.00 3.16       0.58   \n",
       "4                11.00                 34.00     1.00 3.51       0.56   \n",
       "\n",
       "   alcohol  quality  Id  \n",
       "0     9.40        5   0  \n",
       "1     9.80        5   1  \n",
       "2     9.80        5   2  \n",
       "3     9.80        6   3  \n",
       "4     9.40        5   4  "
      ]
     },
     "execution_count": 293,
     "metadata": {},
     "output_type": "execute_result"
    }
   ],
   "source": [
    "df = pd.read_csv(\"WineQT.csv\")\n",
    "df.head()"
   ]
  },
  {
   "cell_type": "code",
   "execution_count": 294,
   "metadata": {},
   "outputs": [
    {
     "data": {
      "text/html": [
       "<div>\n",
       "<style scoped>\n",
       "    .dataframe tbody tr th:only-of-type {\n",
       "        vertical-align: middle;\n",
       "    }\n",
       "\n",
       "    .dataframe tbody tr th {\n",
       "        vertical-align: top;\n",
       "    }\n",
       "\n",
       "    .dataframe thead th {\n",
       "        text-align: right;\n",
       "    }\n",
       "</style>\n",
       "<table border=\"1\" class=\"dataframe\">\n",
       "  <thead>\n",
       "    <tr style=\"text-align: right;\">\n",
       "      <th></th>\n",
       "      <th>fixed acidity</th>\n",
       "      <th>volatile acidity</th>\n",
       "      <th>citric acid</th>\n",
       "      <th>residual sugar</th>\n",
       "      <th>chlorides</th>\n",
       "      <th>free sulfur dioxide</th>\n",
       "      <th>total sulfur dioxide</th>\n",
       "      <th>density</th>\n",
       "      <th>pH</th>\n",
       "      <th>sulphates</th>\n",
       "      <th>alcohol</th>\n",
       "      <th>quality</th>\n",
       "      <th>Id</th>\n",
       "    </tr>\n",
       "  </thead>\n",
       "  <tbody>\n",
       "    <tr>\n",
       "      <th>count</th>\n",
       "      <td>1143.00</td>\n",
       "      <td>1143.00</td>\n",
       "      <td>1143.00</td>\n",
       "      <td>1143.00</td>\n",
       "      <td>1143.00</td>\n",
       "      <td>1143.00</td>\n",
       "      <td>1143.00</td>\n",
       "      <td>1143.00</td>\n",
       "      <td>1143.00</td>\n",
       "      <td>1143.00</td>\n",
       "      <td>1143.00</td>\n",
       "      <td>1143.00</td>\n",
       "      <td>1143.00</td>\n",
       "    </tr>\n",
       "    <tr>\n",
       "      <th>mean</th>\n",
       "      <td>8.31</td>\n",
       "      <td>0.53</td>\n",
       "      <td>0.27</td>\n",
       "      <td>2.53</td>\n",
       "      <td>0.09</td>\n",
       "      <td>15.62</td>\n",
       "      <td>45.91</td>\n",
       "      <td>1.00</td>\n",
       "      <td>3.31</td>\n",
       "      <td>0.66</td>\n",
       "      <td>10.44</td>\n",
       "      <td>5.66</td>\n",
       "      <td>804.97</td>\n",
       "    </tr>\n",
       "    <tr>\n",
       "      <th>std</th>\n",
       "      <td>1.75</td>\n",
       "      <td>0.18</td>\n",
       "      <td>0.20</td>\n",
       "      <td>1.36</td>\n",
       "      <td>0.05</td>\n",
       "      <td>10.25</td>\n",
       "      <td>32.78</td>\n",
       "      <td>0.00</td>\n",
       "      <td>0.16</td>\n",
       "      <td>0.17</td>\n",
       "      <td>1.08</td>\n",
       "      <td>0.81</td>\n",
       "      <td>464.00</td>\n",
       "    </tr>\n",
       "    <tr>\n",
       "      <th>min</th>\n",
       "      <td>4.60</td>\n",
       "      <td>0.12</td>\n",
       "      <td>0.00</td>\n",
       "      <td>0.90</td>\n",
       "      <td>0.01</td>\n",
       "      <td>1.00</td>\n",
       "      <td>6.00</td>\n",
       "      <td>0.99</td>\n",
       "      <td>2.74</td>\n",
       "      <td>0.33</td>\n",
       "      <td>8.40</td>\n",
       "      <td>3.00</td>\n",
       "      <td>0.00</td>\n",
       "    </tr>\n",
       "    <tr>\n",
       "      <th>25%</th>\n",
       "      <td>7.10</td>\n",
       "      <td>0.39</td>\n",
       "      <td>0.09</td>\n",
       "      <td>1.90</td>\n",
       "      <td>0.07</td>\n",
       "      <td>7.00</td>\n",
       "      <td>21.00</td>\n",
       "      <td>1.00</td>\n",
       "      <td>3.21</td>\n",
       "      <td>0.55</td>\n",
       "      <td>9.50</td>\n",
       "      <td>5.00</td>\n",
       "      <td>411.00</td>\n",
       "    </tr>\n",
       "    <tr>\n",
       "      <th>50%</th>\n",
       "      <td>7.90</td>\n",
       "      <td>0.52</td>\n",
       "      <td>0.25</td>\n",
       "      <td>2.20</td>\n",
       "      <td>0.08</td>\n",
       "      <td>13.00</td>\n",
       "      <td>37.00</td>\n",
       "      <td>1.00</td>\n",
       "      <td>3.31</td>\n",
       "      <td>0.62</td>\n",
       "      <td>10.20</td>\n",
       "      <td>6.00</td>\n",
       "      <td>794.00</td>\n",
       "    </tr>\n",
       "    <tr>\n",
       "      <th>75%</th>\n",
       "      <td>9.10</td>\n",
       "      <td>0.64</td>\n",
       "      <td>0.42</td>\n",
       "      <td>2.60</td>\n",
       "      <td>0.09</td>\n",
       "      <td>21.00</td>\n",
       "      <td>61.00</td>\n",
       "      <td>1.00</td>\n",
       "      <td>3.40</td>\n",
       "      <td>0.73</td>\n",
       "      <td>11.10</td>\n",
       "      <td>6.00</td>\n",
       "      <td>1209.50</td>\n",
       "    </tr>\n",
       "    <tr>\n",
       "      <th>max</th>\n",
       "      <td>15.90</td>\n",
       "      <td>1.58</td>\n",
       "      <td>1.00</td>\n",
       "      <td>15.50</td>\n",
       "      <td>0.61</td>\n",
       "      <td>68.00</td>\n",
       "      <td>289.00</td>\n",
       "      <td>1.00</td>\n",
       "      <td>4.01</td>\n",
       "      <td>2.00</td>\n",
       "      <td>14.90</td>\n",
       "      <td>8.00</td>\n",
       "      <td>1597.00</td>\n",
       "    </tr>\n",
       "  </tbody>\n",
       "</table>\n",
       "</div>"
      ],
      "text/plain": [
       "       fixed acidity  volatile acidity  citric acid  residual sugar  \\\n",
       "count        1143.00           1143.00      1143.00         1143.00   \n",
       "mean            8.31              0.53         0.27            2.53   \n",
       "std             1.75              0.18         0.20            1.36   \n",
       "min             4.60              0.12         0.00            0.90   \n",
       "25%             7.10              0.39         0.09            1.90   \n",
       "50%             7.90              0.52         0.25            2.20   \n",
       "75%             9.10              0.64         0.42            2.60   \n",
       "max            15.90              1.58         1.00           15.50   \n",
       "\n",
       "       chlorides  free sulfur dioxide  total sulfur dioxide  density      pH  \\\n",
       "count    1143.00              1143.00               1143.00  1143.00 1143.00   \n",
       "mean        0.09                15.62                 45.91     1.00    3.31   \n",
       "std         0.05                10.25                 32.78     0.00    0.16   \n",
       "min         0.01                 1.00                  6.00     0.99    2.74   \n",
       "25%         0.07                 7.00                 21.00     1.00    3.21   \n",
       "50%         0.08                13.00                 37.00     1.00    3.31   \n",
       "75%         0.09                21.00                 61.00     1.00    3.40   \n",
       "max         0.61                68.00                289.00     1.00    4.01   \n",
       "\n",
       "       sulphates  alcohol  quality      Id  \n",
       "count    1143.00  1143.00  1143.00 1143.00  \n",
       "mean        0.66    10.44     5.66  804.97  \n",
       "std         0.17     1.08     0.81  464.00  \n",
       "min         0.33     8.40     3.00    0.00  \n",
       "25%         0.55     9.50     5.00  411.00  \n",
       "50%         0.62    10.20     6.00  794.00  \n",
       "75%         0.73    11.10     6.00 1209.50  \n",
       "max         2.00    14.90     8.00 1597.00  "
      ]
     },
     "execution_count": 294,
     "metadata": {},
     "output_type": "execute_result"
    }
   ],
   "source": [
    "df.describe()"
   ]
  },
  {
   "cell_type": "markdown",
   "metadata": {},
   "source": [
    "## Checking data types in dataset"
   ]
  },
  {
   "cell_type": "code",
   "execution_count": 295,
   "metadata": {},
   "outputs": [
    {
     "name": "stdout",
     "output_type": "stream",
     "text": [
      "<class 'pandas.core.frame.DataFrame'>\n",
      "RangeIndex: 1143 entries, 0 to 1142\n",
      "Data columns (total 13 columns):\n",
      " #   Column                Non-Null Count  Dtype  \n",
      "---  ------                --------------  -----  \n",
      " 0   fixed acidity         1143 non-null   float64\n",
      " 1   volatile acidity      1143 non-null   float64\n",
      " 2   citric acid           1143 non-null   float64\n",
      " 3   residual sugar        1143 non-null   float64\n",
      " 4   chlorides             1143 non-null   float64\n",
      " 5   free sulfur dioxide   1143 non-null   float64\n",
      " 6   total sulfur dioxide  1143 non-null   float64\n",
      " 7   density               1143 non-null   float64\n",
      " 8   pH                    1143 non-null   float64\n",
      " 9   sulphates             1143 non-null   float64\n",
      " 10  alcohol               1143 non-null   float64\n",
      " 11  quality               1143 non-null   int64  \n",
      " 12  Id                    1143 non-null   int64  \n",
      "dtypes: float64(11), int64(2)\n",
      "memory usage: 116.2 KB\n"
     ]
    }
   ],
   "source": [
    "df.info()"
   ]
  },
  {
   "cell_type": "code",
   "execution_count": 296,
   "metadata": {},
   "outputs": [],
   "source": [
    "# Description:\n",
    "# This datasets is related to red variants of the Portuguese \"Vinho Verde\" wine.\n",
    "# The dataset describes the amount of various chemicals present in wine and their effect on it's quality. \n",
    "# The datasets can be viewed as classification or regression tasks. \n",
    "# The classes are ordered and not balanced (e.g. there are much more normal wines than excellent or poor ones).\n",
    "# A simple yet challenging project, to anticipate the quality of wine.\n",
    "# The complexity arises due to the fact that the dataset has fewer samples, & is highly imbalanced."
   ]
  },
  {
   "cell_type": "code",
   "execution_count": 297,
   "metadata": {},
   "outputs": [],
   "source": [
    "# This data frame contains the following columns:\n",
    "\n",
    "# Input variables (based on physicochemical tests):\\\n",
    "# 1 - fixed acidity\\\n",
    "# 2 - volatile acidity\\\n",
    "# 3 - citric acid\\\n",
    "# 4 - residual sugar\\\n",
    "# 5 - chlorides\\\n",
    "# 6 - free sulfur dioxide\\\n",
    "# 7 - total sulfur dioxide\\\n",
    "# 8 - density\\\n",
    "# 9 - pH\\\n",
    "# 10 - sulphates\\\n",
    "# 11 - alcohol\\\n",
    "# Output variable (based on sensory data):\\\n",
    "# 12 - quality (score between 0 and 10)"
   ]
  },
  {
   "cell_type": "markdown",
   "metadata": {},
   "source": [
    "## Checking nul values"
   ]
  },
  {
   "cell_type": "code",
   "execution_count": 298,
   "metadata": {},
   "outputs": [
    {
     "data": {
      "text/plain": [
       "fixed acidity           0\n",
       "volatile acidity        0\n",
       "citric acid             0\n",
       "residual sugar          0\n",
       "chlorides               0\n",
       "free sulfur dioxide     0\n",
       "total sulfur dioxide    0\n",
       "density                 0\n",
       "pH                      0\n",
       "sulphates               0\n",
       "alcohol                 0\n",
       "quality                 0\n",
       "Id                      0\n",
       "dtype: int64"
      ]
     },
     "execution_count": 298,
     "metadata": {},
     "output_type": "execute_result"
    }
   ],
   "source": [
    "df.isna().sum()"
   ]
  },
  {
   "cell_type": "code",
   "execution_count": 299,
   "metadata": {},
   "outputs": [
    {
     "name": "stdout",
     "output_type": "stream",
     "text": [
      "The Value Quality  [5 6 7 4 8 3]\n"
     ]
    }
   ],
   "source": [
    "df.drop(columns=\"Id\",inplace=True)\n",
    "print(\"The Value Quality \",df[\"quality\"].unique())"
   ]
  },
  {
   "cell_type": "code",
   "execution_count": 300,
   "metadata": {},
   "outputs": [
    {
     "data": {
      "application/vnd.plotly.v1+json": {
       "config": {
        "plotlyServerURL": "https://plot.ly"
       },
       "data": [
        {
         "coloraxis": "coloraxis",
         "hovertemplate": "Columns: %{x}<br>Columns: %{y}<br>color: %{z}<extra></extra>",
         "name": "0",
         "type": "heatmap",
         "x": [
          "fixed acidity",
          "volatile acidity",
          "citric acid",
          "residual sugar",
          "chlorides",
          "free sulfur dioxide",
          "total sulfur dioxide",
          "density",
          "pH",
          "sulphates",
          "alcohol",
          "quality"
         ],
         "xaxis": "x",
         "y": [
          "fixed acidity",
          "volatile acidity",
          "citric acid",
          "residual sugar",
          "chlorides",
          "free sulfur dioxide",
          "total sulfur dioxide",
          "density",
          "pH",
          "sulphates",
          "alcohol",
          "quality"
         ],
         "yaxis": "y",
         "z": [
          [
           1,
           -0.2507283222922267,
           0.6731572507629235,
           0.17183053523615718,
           0.10788856981486475,
           -0.16483079329778236,
           -0.11062836769999605,
           0.6815008826691703,
           -0.6851625988235482,
           0.1745918252127846,
           -0.07505485317982612,
           0.12197009989725939
          ],
          [
           -0.2507283222922267,
           1,
           -0.5441869374183994,
           -0.005751096727715598,
           0.05633625898948119,
           -0.0019624789024567917,
           0.07774772174216345,
           0.01651151969842792,
           0.2214915179882762,
           -0.27607859664162426,
           -0.20390927263243766,
           -0.40739351292438425
          ],
          [
           0.6731572507629235,
           -0.5441869374183994,
           1,
           0.17581485365184404,
           0.24531248978995243,
           -0.05758910401502515,
           0.0368711101713151,
           0.3752432604912532,
           -0.5463391381265055,
           0.33123175783491793,
           0.106250343253282,
           0.24082083714719305
          ],
          [
           0.17183053523615718,
           -0.005751096727715598,
           0.17581485365184404,
           1,
           0.07086311181911287,
           0.1653387971252345,
           0.1907900349517252,
           0.38014695171471213,
           -0.11695893598551792,
           0.01747450374054128,
           0.05842060594172391,
           0.02200193057996692
          ],
          [
           0.10788856981486475,
           0.05633625898948119,
           0.24531248978995243,
           0.07086311181911287,
           1,
           0.015280458103643783,
           0.04816316089792963,
           0.20890071067822524,
           -0.2777590680558625,
           0.37478389389790284,
           -0.2299170942071166,
           -0.12408453132892894
          ],
          [
           -0.16483079329778236,
           -0.0019624789024567917,
           -0.05758910401502515,
           0.1653387971252345,
           0.015280458103643783,
           1,
           0.6610928721834333,
           -0.054150318124640315,
           0.0728037064384535,
           0.03444512164275631,
           -0.047094832015450706,
           -0.06325964147253875
          ],
          [
           -0.11062836769999605,
           0.07774772174216345,
           0.0368711101713151,
           0.1907900349517252,
           0.04816316089792963,
           0.6610928721834333,
           1,
           0.05017482698912892,
           -0.0591257200125416,
           0.026893682152839316,
           -0.18816479879899578,
           -0.18333914747213004
          ],
          [
           0.6815008826691703,
           0.01651151969842792,
           0.3752432604912532,
           0.38014695171471213,
           0.20890071067822524,
           -0.054150318124640315,
           0.05017482698912892,
           1,
           -0.3527746247768655,
           0.14313929001288817,
           -0.49472689818400944,
           -0.17520792322644704
          ],
          [
           -0.6851625988235482,
           0.2214915179882762,
           -0.5463391381265055,
           -0.11695893598551792,
           -0.2777590680558625,
           0.0728037064384535,
           -0.0591257200125416,
           -0.3527746247768655,
           1,
           -0.18549903114396318,
           0.22532220287324645,
           -0.05245303335788242
          ],
          [
           0.1745918252127846,
           -0.27607859664162426,
           0.33123175783491793,
           0.01747450374054128,
           0.37478389389790284,
           0.03444512164275631,
           0.026893682152839316,
           0.14313929001288817,
           -0.18549903114396318,
           1,
           0.094421126411993,
           0.2577102599306222
          ],
          [
           -0.07505485317982612,
           -0.20390927263243766,
           0.106250343253282,
           0.05842060594172391,
           -0.2299170942071166,
           -0.047094832015450706,
           -0.18816479879899578,
           -0.49472689818400944,
           0.22532220287324645,
           0.094421126411993,
           1,
           0.48486621180851264
          ],
          [
           0.12197009989725939,
           -0.40739351292438425,
           0.24082083714719305,
           0.02200193057996692,
           -0.12408453132892894,
           -0.06325964147253875,
           -0.18333914747213004,
           -0.17520792322644704,
           -0.05245303335788242,
           0.2577102599306222,
           0.48486621180851264,
           1
          ]
         ]
        }
       ],
       "layout": {
        "coloraxis": {
         "colorscale": [
          [
           0,
           "#440154"
          ],
          [
           0.1111111111111111,
           "#482878"
          ],
          [
           0.2222222222222222,
           "#3e4989"
          ],
          [
           0.3333333333333333,
           "#31688e"
          ],
          [
           0.4444444444444444,
           "#26828e"
          ],
          [
           0.5555555555555556,
           "#1f9e89"
          ],
          [
           0.6666666666666666,
           "#35b779"
          ],
          [
           0.7777777777777778,
           "#6ece58"
          ],
          [
           0.8888888888888888,
           "#b5de2b"
          ],
          [
           1,
           "#fde725"
          ]
         ]
        },
        "template": {
         "data": {
          "bar": [
           {
            "error_x": {
             "color": "#2a3f5f"
            },
            "error_y": {
             "color": "#2a3f5f"
            },
            "marker": {
             "line": {
              "color": "#E5ECF6",
              "width": 0.5
             },
             "pattern": {
              "fillmode": "overlay",
              "size": 10,
              "solidity": 0.2
             }
            },
            "type": "bar"
           }
          ],
          "barpolar": [
           {
            "marker": {
             "line": {
              "color": "#E5ECF6",
              "width": 0.5
             },
             "pattern": {
              "fillmode": "overlay",
              "size": 10,
              "solidity": 0.2
             }
            },
            "type": "barpolar"
           }
          ],
          "carpet": [
           {
            "aaxis": {
             "endlinecolor": "#2a3f5f",
             "gridcolor": "white",
             "linecolor": "white",
             "minorgridcolor": "white",
             "startlinecolor": "#2a3f5f"
            },
            "baxis": {
             "endlinecolor": "#2a3f5f",
             "gridcolor": "white",
             "linecolor": "white",
             "minorgridcolor": "white",
             "startlinecolor": "#2a3f5f"
            },
            "type": "carpet"
           }
          ],
          "choropleth": [
           {
            "colorbar": {
             "outlinewidth": 0,
             "ticks": ""
            },
            "type": "choropleth"
           }
          ],
          "contour": [
           {
            "colorbar": {
             "outlinewidth": 0,
             "ticks": ""
            },
            "colorscale": [
             [
              0,
              "#0d0887"
             ],
             [
              0.1111111111111111,
              "#46039f"
             ],
             [
              0.2222222222222222,
              "#7201a8"
             ],
             [
              0.3333333333333333,
              "#9c179e"
             ],
             [
              0.4444444444444444,
              "#bd3786"
             ],
             [
              0.5555555555555556,
              "#d8576b"
             ],
             [
              0.6666666666666666,
              "#ed7953"
             ],
             [
              0.7777777777777778,
              "#fb9f3a"
             ],
             [
              0.8888888888888888,
              "#fdca26"
             ],
             [
              1,
              "#f0f921"
             ]
            ],
            "type": "contour"
           }
          ],
          "contourcarpet": [
           {
            "colorbar": {
             "outlinewidth": 0,
             "ticks": ""
            },
            "type": "contourcarpet"
           }
          ],
          "heatmap": [
           {
            "colorbar": {
             "outlinewidth": 0,
             "ticks": ""
            },
            "colorscale": [
             [
              0,
              "#0d0887"
             ],
             [
              0.1111111111111111,
              "#46039f"
             ],
             [
              0.2222222222222222,
              "#7201a8"
             ],
             [
              0.3333333333333333,
              "#9c179e"
             ],
             [
              0.4444444444444444,
              "#bd3786"
             ],
             [
              0.5555555555555556,
              "#d8576b"
             ],
             [
              0.6666666666666666,
              "#ed7953"
             ],
             [
              0.7777777777777778,
              "#fb9f3a"
             ],
             [
              0.8888888888888888,
              "#fdca26"
             ],
             [
              1,
              "#f0f921"
             ]
            ],
            "type": "heatmap"
           }
          ],
          "heatmapgl": [
           {
            "colorbar": {
             "outlinewidth": 0,
             "ticks": ""
            },
            "colorscale": [
             [
              0,
              "#0d0887"
             ],
             [
              0.1111111111111111,
              "#46039f"
             ],
             [
              0.2222222222222222,
              "#7201a8"
             ],
             [
              0.3333333333333333,
              "#9c179e"
             ],
             [
              0.4444444444444444,
              "#bd3786"
             ],
             [
              0.5555555555555556,
              "#d8576b"
             ],
             [
              0.6666666666666666,
              "#ed7953"
             ],
             [
              0.7777777777777778,
              "#fb9f3a"
             ],
             [
              0.8888888888888888,
              "#fdca26"
             ],
             [
              1,
              "#f0f921"
             ]
            ],
            "type": "heatmapgl"
           }
          ],
          "histogram": [
           {
            "marker": {
             "pattern": {
              "fillmode": "overlay",
              "size": 10,
              "solidity": 0.2
             }
            },
            "type": "histogram"
           }
          ],
          "histogram2d": [
           {
            "colorbar": {
             "outlinewidth": 0,
             "ticks": ""
            },
            "colorscale": [
             [
              0,
              "#0d0887"
             ],
             [
              0.1111111111111111,
              "#46039f"
             ],
             [
              0.2222222222222222,
              "#7201a8"
             ],
             [
              0.3333333333333333,
              "#9c179e"
             ],
             [
              0.4444444444444444,
              "#bd3786"
             ],
             [
              0.5555555555555556,
              "#d8576b"
             ],
             [
              0.6666666666666666,
              "#ed7953"
             ],
             [
              0.7777777777777778,
              "#fb9f3a"
             ],
             [
              0.8888888888888888,
              "#fdca26"
             ],
             [
              1,
              "#f0f921"
             ]
            ],
            "type": "histogram2d"
           }
          ],
          "histogram2dcontour": [
           {
            "colorbar": {
             "outlinewidth": 0,
             "ticks": ""
            },
            "colorscale": [
             [
              0,
              "#0d0887"
             ],
             [
              0.1111111111111111,
              "#46039f"
             ],
             [
              0.2222222222222222,
              "#7201a8"
             ],
             [
              0.3333333333333333,
              "#9c179e"
             ],
             [
              0.4444444444444444,
              "#bd3786"
             ],
             [
              0.5555555555555556,
              "#d8576b"
             ],
             [
              0.6666666666666666,
              "#ed7953"
             ],
             [
              0.7777777777777778,
              "#fb9f3a"
             ],
             [
              0.8888888888888888,
              "#fdca26"
             ],
             [
              1,
              "#f0f921"
             ]
            ],
            "type": "histogram2dcontour"
           }
          ],
          "mesh3d": [
           {
            "colorbar": {
             "outlinewidth": 0,
             "ticks": ""
            },
            "type": "mesh3d"
           }
          ],
          "parcoords": [
           {
            "line": {
             "colorbar": {
              "outlinewidth": 0,
              "ticks": ""
             }
            },
            "type": "parcoords"
           }
          ],
          "pie": [
           {
            "automargin": true,
            "type": "pie"
           }
          ],
          "scatter": [
           {
            "fillpattern": {
             "fillmode": "overlay",
             "size": 10,
             "solidity": 0.2
            },
            "type": "scatter"
           }
          ],
          "scatter3d": [
           {
            "line": {
             "colorbar": {
              "outlinewidth": 0,
              "ticks": ""
             }
            },
            "marker": {
             "colorbar": {
              "outlinewidth": 0,
              "ticks": ""
             }
            },
            "type": "scatter3d"
           }
          ],
          "scattercarpet": [
           {
            "marker": {
             "colorbar": {
              "outlinewidth": 0,
              "ticks": ""
             }
            },
            "type": "scattercarpet"
           }
          ],
          "scattergeo": [
           {
            "marker": {
             "colorbar": {
              "outlinewidth": 0,
              "ticks": ""
             }
            },
            "type": "scattergeo"
           }
          ],
          "scattergl": [
           {
            "marker": {
             "colorbar": {
              "outlinewidth": 0,
              "ticks": ""
             }
            },
            "type": "scattergl"
           }
          ],
          "scattermapbox": [
           {
            "marker": {
             "colorbar": {
              "outlinewidth": 0,
              "ticks": ""
             }
            },
            "type": "scattermapbox"
           }
          ],
          "scatterpolar": [
           {
            "marker": {
             "colorbar": {
              "outlinewidth": 0,
              "ticks": ""
             }
            },
            "type": "scatterpolar"
           }
          ],
          "scatterpolargl": [
           {
            "marker": {
             "colorbar": {
              "outlinewidth": 0,
              "ticks": ""
             }
            },
            "type": "scatterpolargl"
           }
          ],
          "scatterternary": [
           {
            "marker": {
             "colorbar": {
              "outlinewidth": 0,
              "ticks": ""
             }
            },
            "type": "scatterternary"
           }
          ],
          "surface": [
           {
            "colorbar": {
             "outlinewidth": 0,
             "ticks": ""
            },
            "colorscale": [
             [
              0,
              "#0d0887"
             ],
             [
              0.1111111111111111,
              "#46039f"
             ],
             [
              0.2222222222222222,
              "#7201a8"
             ],
             [
              0.3333333333333333,
              "#9c179e"
             ],
             [
              0.4444444444444444,
              "#bd3786"
             ],
             [
              0.5555555555555556,
              "#d8576b"
             ],
             [
              0.6666666666666666,
              "#ed7953"
             ],
             [
              0.7777777777777778,
              "#fb9f3a"
             ],
             [
              0.8888888888888888,
              "#fdca26"
             ],
             [
              1,
              "#f0f921"
             ]
            ],
            "type": "surface"
           }
          ],
          "table": [
           {
            "cells": {
             "fill": {
              "color": "#EBF0F8"
             },
             "line": {
              "color": "white"
             }
            },
            "header": {
             "fill": {
              "color": "#C8D4E3"
             },
             "line": {
              "color": "white"
             }
            },
            "type": "table"
           }
          ]
         },
         "layout": {
          "annotationdefaults": {
           "arrowcolor": "#2a3f5f",
           "arrowhead": 0,
           "arrowwidth": 1
          },
          "autotypenumbers": "strict",
          "coloraxis": {
           "colorbar": {
            "outlinewidth": 0,
            "ticks": ""
           }
          },
          "colorscale": {
           "diverging": [
            [
             0,
             "#8e0152"
            ],
            [
             0.1,
             "#c51b7d"
            ],
            [
             0.2,
             "#de77ae"
            ],
            [
             0.3,
             "#f1b6da"
            ],
            [
             0.4,
             "#fde0ef"
            ],
            [
             0.5,
             "#f7f7f7"
            ],
            [
             0.6,
             "#e6f5d0"
            ],
            [
             0.7,
             "#b8e186"
            ],
            [
             0.8,
             "#7fbc41"
            ],
            [
             0.9,
             "#4d9221"
            ],
            [
             1,
             "#276419"
            ]
           ],
           "sequential": [
            [
             0,
             "#0d0887"
            ],
            [
             0.1111111111111111,
             "#46039f"
            ],
            [
             0.2222222222222222,
             "#7201a8"
            ],
            [
             0.3333333333333333,
             "#9c179e"
            ],
            [
             0.4444444444444444,
             "#bd3786"
            ],
            [
             0.5555555555555556,
             "#d8576b"
            ],
            [
             0.6666666666666666,
             "#ed7953"
            ],
            [
             0.7777777777777778,
             "#fb9f3a"
            ],
            [
             0.8888888888888888,
             "#fdca26"
            ],
            [
             1,
             "#f0f921"
            ]
           ],
           "sequentialminus": [
            [
             0,
             "#0d0887"
            ],
            [
             0.1111111111111111,
             "#46039f"
            ],
            [
             0.2222222222222222,
             "#7201a8"
            ],
            [
             0.3333333333333333,
             "#9c179e"
            ],
            [
             0.4444444444444444,
             "#bd3786"
            ],
            [
             0.5555555555555556,
             "#d8576b"
            ],
            [
             0.6666666666666666,
             "#ed7953"
            ],
            [
             0.7777777777777778,
             "#fb9f3a"
            ],
            [
             0.8888888888888888,
             "#fdca26"
            ],
            [
             1,
             "#f0f921"
            ]
           ]
          },
          "colorway": [
           "#636efa",
           "#EF553B",
           "#00cc96",
           "#ab63fa",
           "#FFA15A",
           "#19d3f3",
           "#FF6692",
           "#B6E880",
           "#FF97FF",
           "#FECB52"
          ],
          "font": {
           "color": "#2a3f5f"
          },
          "geo": {
           "bgcolor": "white",
           "lakecolor": "white",
           "landcolor": "#E5ECF6",
           "showlakes": true,
           "showland": true,
           "subunitcolor": "white"
          },
          "hoverlabel": {
           "align": "left"
          },
          "hovermode": "closest",
          "mapbox": {
           "style": "light"
          },
          "paper_bgcolor": "white",
          "plot_bgcolor": "#E5ECF6",
          "polar": {
           "angularaxis": {
            "gridcolor": "white",
            "linecolor": "white",
            "ticks": ""
           },
           "bgcolor": "#E5ECF6",
           "radialaxis": {
            "gridcolor": "white",
            "linecolor": "white",
            "ticks": ""
           }
          },
          "scene": {
           "xaxis": {
            "backgroundcolor": "#E5ECF6",
            "gridcolor": "white",
            "gridwidth": 2,
            "linecolor": "white",
            "showbackground": true,
            "ticks": "",
            "zerolinecolor": "white"
           },
           "yaxis": {
            "backgroundcolor": "#E5ECF6",
            "gridcolor": "white",
            "gridwidth": 2,
            "linecolor": "white",
            "showbackground": true,
            "ticks": "",
            "zerolinecolor": "white"
           },
           "zaxis": {
            "backgroundcolor": "#E5ECF6",
            "gridcolor": "white",
            "gridwidth": 2,
            "linecolor": "white",
            "showbackground": true,
            "ticks": "",
            "zerolinecolor": "white"
           }
          },
          "shapedefaults": {
           "line": {
            "color": "#2a3f5f"
           }
          },
          "ternary": {
           "aaxis": {
            "gridcolor": "white",
            "linecolor": "white",
            "ticks": ""
           },
           "baxis": {
            "gridcolor": "white",
            "linecolor": "white",
            "ticks": ""
           },
           "bgcolor": "#E5ECF6",
           "caxis": {
            "gridcolor": "white",
            "linecolor": "white",
            "ticks": ""
           }
          },
          "title": {
           "x": 0.05
          },
          "xaxis": {
           "automargin": true,
           "gridcolor": "white",
           "linecolor": "white",
           "ticks": "",
           "title": {
            "standoff": 15
           },
           "zerolinecolor": "white",
           "zerolinewidth": 2
          },
          "yaxis": {
           "automargin": true,
           "gridcolor": "white",
           "linecolor": "white",
           "ticks": "",
           "title": {
            "standoff": 15
           },
           "zerolinecolor": "white",
           "zerolinewidth": 2
          }
         }
        },
        "title": {
         "text": "Correlation Plot of the Wine Quality Prediction"
        },
        "xaxis": {
         "anchor": "y",
         "constrain": "domain",
         "domain": [
          0,
          1
         ],
         "scaleanchor": "y",
         "title": {
          "text": "Columns"
         }
        },
        "yaxis": {
         "anchor": "x",
         "autorange": "reversed",
         "constrain": "domain",
         "domain": [
          0,
          1
         ],
         "title": {
          "text": "Columns"
         }
        }
       }
      }
     },
     "metadata": {},
     "output_type": "display_data"
    }
   ],
   "source": [
    "import plotly.express as px\n",
    "fig = px.imshow(df.corr(),\n",
    "                labels=dict(x=\"Columns\", y=\"Columns\"),\n",
    "                x=df.columns,\n",
    "                y=df.columns,\n",
    "                color_continuous_scale=\"Viridis\",\n",
    "                title=\"Correlation Plot of the Wine Quality Prediction\")\n",
    "\n",
    "fig.show()"
   ]
  },
  {
   "cell_type": "code",
   "execution_count": 301,
   "metadata": {},
   "outputs": [
    {
     "name": "stdout",
     "output_type": "stream",
     "text": [
      "volatile acidity : fixed acidity : -0.2507283222922267\n",
      "citric acid : fixed acidity : 0.6731572507629235\n",
      "citric acid : volatile acidity : -0.5441869374183994\n",
      "residual sugar : fixed acidity : 0.17183053523615718\n",
      "residual sugar : volatile acidity : -0.005751096727715598\n",
      "residual sugar : citric acid : 0.17581485365184404\n",
      "chlorides : fixed acidity : 0.10788856981486475\n",
      "chlorides : volatile acidity : 0.05633625898948119\n",
      "chlorides : citric acid : 0.24531248978995243\n",
      "chlorides : residual sugar : 0.07086311181911287\n",
      "free sulfur dioxide : fixed acidity : -0.16483079329778236\n",
      "free sulfur dioxide : volatile acidity : -0.0019624789024567917\n",
      "free sulfur dioxide : citric acid : -0.05758910401502515\n",
      "free sulfur dioxide : residual sugar : 0.1653387971252345\n",
      "free sulfur dioxide : chlorides : 0.015280458103643783\n",
      "total sulfur dioxide : fixed acidity : -0.11062836769999605\n",
      "total sulfur dioxide : volatile acidity : 0.07774772174216345\n",
      "total sulfur dioxide : citric acid : 0.0368711101713151\n",
      "total sulfur dioxide : residual sugar : 0.1907900349517252\n",
      "total sulfur dioxide : chlorides : 0.04816316089792963\n",
      "total sulfur dioxide : free sulfur dioxide : 0.6610928721834333\n",
      "density : fixed acidity : 0.6815008826691703\n",
      "density : volatile acidity : 0.01651151969842792\n",
      "density : citric acid : 0.3752432604912532\n",
      "density : residual sugar : 0.38014695171471213\n",
      "density : chlorides : 0.20890071067822524\n",
      "density : free sulfur dioxide : -0.054150318124640315\n",
      "density : total sulfur dioxide : 0.05017482698912892\n",
      "pH : fixed acidity : -0.6851625988235482\n",
      "pH : volatile acidity : 0.2214915179882762\n",
      "pH : citric acid : -0.5463391381265055\n",
      "pH : residual sugar : -0.11695893598551792\n",
      "pH : chlorides : -0.2777590680558625\n",
      "pH : free sulfur dioxide : 0.0728037064384535\n",
      "pH : total sulfur dioxide : -0.0591257200125416\n",
      "pH : density : -0.3527746247768655\n",
      "sulphates : fixed acidity : 0.1745918252127846\n",
      "sulphates : volatile acidity : -0.27607859664162426\n",
      "sulphates : citric acid : 0.33123175783491793\n",
      "sulphates : residual sugar : 0.01747450374054128\n",
      "sulphates : chlorides : 0.37478389389790284\n",
      "sulphates : free sulfur dioxide : 0.03444512164275631\n",
      "sulphates : total sulfur dioxide : 0.026893682152839316\n",
      "sulphates : density : 0.14313929001288817\n",
      "sulphates : pH : -0.18549903114396318\n",
      "alcohol : fixed acidity : -0.07505485317982612\n",
      "alcohol : volatile acidity : -0.20390927263243766\n",
      "alcohol : citric acid : 0.106250343253282\n",
      "alcohol : residual sugar : 0.05842060594172391\n",
      "alcohol : chlorides : -0.2299170942071166\n",
      "alcohol : free sulfur dioxide : -0.047094832015450706\n",
      "alcohol : total sulfur dioxide : -0.18816479879899578\n",
      "alcohol : density : -0.49472689818400944\n",
      "alcohol : pH : 0.22532220287324645\n",
      "alcohol : sulphates : 0.094421126411993\n",
      "quality : fixed acidity : 0.12197009989725939\n",
      "quality : volatile acidity : -0.40739351292438425\n",
      "quality : citric acid : 0.24082083714719305\n",
      "quality : residual sugar : 0.02200193057996692\n",
      "quality : chlorides : -0.12408453132892894\n",
      "quality : free sulfur dioxide : -0.06325964147253875\n",
      "quality : total sulfur dioxide : -0.18333914747213004\n",
      "quality : density : -0.17520792322644704\n",
      "quality : pH : -0.05245303335788242\n",
      "quality : sulphates : 0.2577102599306222\n",
      "quality : alcohol : 0.48486621180851264\n"
     ]
    }
   ],
   "source": [
    "for a in range(len(df.corr().columns)):\n",
    "    for b in range(a):\n",
    "        print (df.corr().columns[a],\":\",df.corr().columns[b],\":\",df.corr().iloc[a,b])"
   ]
  },
  {
   "cell_type": "code",
   "execution_count": 302,
   "metadata": {},
   "outputs": [],
   "source": [
    "for a in range(len(df.corr().columns)):\n",
    "    for b in range(a):\n",
    "        if abs(df.corr().iloc[a,b]) >0.7:\n",
    "            name = df.corr().columns[a]\n",
    "            print(name)"
   ]
  },
  {
   "cell_type": "code",
   "execution_count": 303,
   "metadata": {},
   "outputs": [
    {
     "data": {
      "image/png": "[encoded data removed]",
      "text/plain": [
       "<Figure size 1200x800 with 12 Axes>"
      ]
     },
     "metadata": {},
     "output_type": "display_data"
    }
   ],
   "source": [
    "df.hist(figsize=(12, 8))\n",
    "plt.suptitle(\"Histograms of Numeric Columns\", y=1.02)\n",
    "plt.tight_layout()\n",
    "plt.show()"
   ]
  },
  {
   "cell_type": "code",
   "execution_count": 304,
   "metadata": {},
   "outputs": [
    {
     "data": {
      "text/html": [
       "<div>\n",
       "<style scoped>\n",
       "    .dataframe tbody tr th:only-of-type {\n",
       "        vertical-align: middle;\n",
       "    }\n",
       "\n",
       "    .dataframe tbody tr th {\n",
       "        vertical-align: top;\n",
       "    }\n",
       "\n",
       "    .dataframe thead th {\n",
       "        text-align: right;\n",
       "    }\n",
       "</style>\n",
       "<table border=\"1\" class=\"dataframe\">\n",
       "  <thead>\n",
       "    <tr style=\"text-align: right;\">\n",
       "      <th></th>\n",
       "      <th>fixed acidity</th>\n",
       "      <th>volatile acidity</th>\n",
       "      <th>citric acid</th>\n",
       "      <th>residual sugar</th>\n",
       "      <th>chlorides</th>\n",
       "      <th>free sulfur dioxide</th>\n",
       "      <th>total sulfur dioxide</th>\n",
       "      <th>density</th>\n",
       "      <th>pH</th>\n",
       "      <th>sulphates</th>\n",
       "      <th>alcohol</th>\n",
       "    </tr>\n",
       "    <tr>\n",
       "      <th>quality</th>\n",
       "      <th></th>\n",
       "      <th></th>\n",
       "      <th></th>\n",
       "      <th></th>\n",
       "      <th></th>\n",
       "      <th></th>\n",
       "      <th></th>\n",
       "      <th></th>\n",
       "      <th></th>\n",
       "      <th></th>\n",
       "      <th></th>\n",
       "    </tr>\n",
       "  </thead>\n",
       "  <tbody>\n",
       "    <tr>\n",
       "      <th>3</th>\n",
       "      <td>8.45</td>\n",
       "      <td>0.90</td>\n",
       "      <td>0.21</td>\n",
       "      <td>2.67</td>\n",
       "      <td>0.11</td>\n",
       "      <td>8.17</td>\n",
       "      <td>24.50</td>\n",
       "      <td>1.00</td>\n",
       "      <td>3.36</td>\n",
       "      <td>0.55</td>\n",
       "      <td>9.69</td>\n",
       "    </tr>\n",
       "    <tr>\n",
       "      <th>4</th>\n",
       "      <td>7.81</td>\n",
       "      <td>0.70</td>\n",
       "      <td>0.17</td>\n",
       "      <td>2.57</td>\n",
       "      <td>0.09</td>\n",
       "      <td>14.85</td>\n",
       "      <td>40.61</td>\n",
       "      <td>1.00</td>\n",
       "      <td>3.39</td>\n",
       "      <td>0.64</td>\n",
       "      <td>10.26</td>\n",
       "    </tr>\n",
       "    <tr>\n",
       "      <th>5</th>\n",
       "      <td>8.16</td>\n",
       "      <td>0.59</td>\n",
       "      <td>0.24</td>\n",
       "      <td>2.54</td>\n",
       "      <td>0.09</td>\n",
       "      <td>16.61</td>\n",
       "      <td>55.30</td>\n",
       "      <td>1.00</td>\n",
       "      <td>3.30</td>\n",
       "      <td>0.61</td>\n",
       "      <td>9.90</td>\n",
       "    </tr>\n",
       "    <tr>\n",
       "      <th>6</th>\n",
       "      <td>8.32</td>\n",
       "      <td>0.50</td>\n",
       "      <td>0.26</td>\n",
       "      <td>2.44</td>\n",
       "      <td>0.09</td>\n",
       "      <td>15.22</td>\n",
       "      <td>39.94</td>\n",
       "      <td>1.00</td>\n",
       "      <td>3.32</td>\n",
       "      <td>0.68</td>\n",
       "      <td>10.66</td>\n",
       "    </tr>\n",
       "    <tr>\n",
       "      <th>7</th>\n",
       "      <td>8.85</td>\n",
       "      <td>0.39</td>\n",
       "      <td>0.39</td>\n",
       "      <td>2.76</td>\n",
       "      <td>0.08</td>\n",
       "      <td>14.54</td>\n",
       "      <td>37.49</td>\n",
       "      <td>1.00</td>\n",
       "      <td>3.29</td>\n",
       "      <td>0.74</td>\n",
       "      <td>11.48</td>\n",
       "    </tr>\n",
       "    <tr>\n",
       "      <th>8</th>\n",
       "      <td>8.81</td>\n",
       "      <td>0.41</td>\n",
       "      <td>0.43</td>\n",
       "      <td>2.64</td>\n",
       "      <td>0.07</td>\n",
       "      <td>11.06</td>\n",
       "      <td>29.38</td>\n",
       "      <td>1.00</td>\n",
       "      <td>3.24</td>\n",
       "      <td>0.77</td>\n",
       "      <td>11.94</td>\n",
       "    </tr>\n",
       "  </tbody>\n",
       "</table>\n",
       "</div>"
      ],
      "text/plain": [
       "         fixed acidity  volatile acidity  citric acid  residual sugar  \\\n",
       "quality                                                                 \n",
       "3                 8.45              0.90         0.21            2.67   \n",
       "4                 7.81              0.70         0.17            2.57   \n",
       "5                 8.16              0.59         0.24            2.54   \n",
       "6                 8.32              0.50         0.26            2.44   \n",
       "7                 8.85              0.39         0.39            2.76   \n",
       "8                 8.81              0.41         0.43            2.64   \n",
       "\n",
       "         chlorides  free sulfur dioxide  total sulfur dioxide  density   pH  \\\n",
       "quality                                                                       \n",
       "3             0.11                 8.17                 24.50     1.00 3.36   \n",
       "4             0.09                14.85                 40.61     1.00 3.39   \n",
       "5             0.09                16.61                 55.30     1.00 3.30   \n",
       "6             0.09                15.22                 39.94     1.00 3.32   \n",
       "7             0.08                14.54                 37.49     1.00 3.29   \n",
       "8             0.07                11.06                 29.38     1.00 3.24   \n",
       "\n",
       "         sulphates  alcohol  \n",
       "quality                      \n",
       "3             0.55     9.69  \n",
       "4             0.64    10.26  \n",
       "5             0.61     9.90  \n",
       "6             0.68    10.66  \n",
       "7             0.74    11.48  \n",
       "8             0.77    11.94  "
      ]
     },
     "execution_count": 304,
     "metadata": {},
     "output_type": "execute_result"
    }
   ],
   "source": [
    "avg_qua = df.groupby(\"quality\").mean()\n",
    "avg_qua"
   ]
  },
  {
   "cell_type": "code",
   "execution_count": 305,
   "metadata": {},
   "outputs": [],
   "source": [
    "x = df.iloc[:,:-1].values\n",
    "y = df.iloc[:,-1].values\n",
    "\n",
    "from sklearn.model_selection import train_test_split\n",
    "x_train,x_test,y_train,y_test = train_test_split(x,y,test_size=0.2,random_state=40)"
   ]
  },
  {
   "cell_type": "markdown",
   "metadata": {},
   "source": [
    "## Standardizing Data"
   ]
  },
  {
   "cell_type": "code",
   "execution_count": 306,
   "metadata": {},
   "outputs": [],
   "source": [
    "from sklearn.preprocessing import StandardScaler\n",
    "\n",
    "scaler = StandardScaler()\n",
    "X = scaler.fit_transform(x)\n",
    "# Y = scaler.fit_transform(y.reshape(-1,1))\n",
    "X_train = scaler.fit_transform(x_train)\n",
    "X_test = scaler.fit_transform(x_test)\n"
   ]
  },
  {
   "cell_type": "markdown",
   "metadata": {},
   "source": [
    "## Normalized Data"
   ]
  },
  {
   "cell_type": "code",
   "execution_count": 307,
   "metadata": {},
   "outputs": [],
   "source": [
    "from sklearn.preprocessing import MinMaxScaler\n",
    "\n",
    "scaler_ = MinMaxScaler()\n",
    "\n",
    "X_Train = scaler_.fit_transform(x_train)\n",
    "X_Test = scaler_.fit_transform(x_test)"
   ]
  },
  {
   "cell_type": "markdown",
   "metadata": {},
   "source": [
    "## Lazy predict for Normalized datset "
   ]
  },
  {
   "cell_type": "code",
   "execution_count": 308,
   "metadata": {},
   "outputs": [
    {
     "name": "stderr",
     "output_type": "stream",
     "text": [
      "  0%|          | 0/29 [00:00<?, ?it/s]"
     ]
    },
    {
     "name": "stderr",
     "output_type": "stream",
     "text": [
      "  3%|▎         | 1/29 [00:00<00:09,  3.02it/s]"
     ]
    },
    {
     "name": "stdout",
     "output_type": "stream",
     "text": [
      "ROC AUC couldn't be calculated for AdaBoostClassifier\n",
      "multi_class must be in ('ovo', 'ovr')\n"
     ]
    },
    {
     "name": "stderr",
     "output_type": "stream",
     "text": [
      " 14%|█▍        | 4/29 [00:00<00:04,  5.48it/s]"
     ]
    },
    {
     "name": "stdout",
     "output_type": "stream",
     "text": [
      "ROC AUC couldn't be calculated for BaggingClassifier\n",
      "multi_class must be in ('ovo', 'ovr')\n",
      "ROC AUC couldn't be calculated for BernoulliNB\n",
      "multi_class must be in ('ovo', 'ovr')\n",
      "ROC AUC couldn't be calculated for CalibratedClassifierCV\n",
      "multi_class must be in ('ovo', 'ovr')\n"
     ]
    },
    {
     "name": "stderr",
     "output_type": "stream",
     "text": [
      " 28%|██▊       | 8/29 [00:00<00:01, 11.79it/s]"
     ]
    },
    {
     "name": "stdout",
     "output_type": "stream",
     "text": [
      "CategoricalNB model failed to execute\n",
      "Negative values in data passed to CategoricalNB (input X)\n",
      "ROC AUC couldn't be calculated for DecisionTreeClassifier\n",
      "multi_class must be in ('ovo', 'ovr')\n",
      "ROC AUC couldn't be calculated for DummyClassifier\n",
      "multi_class must be in ('ovo', 'ovr')\n",
      "ROC AUC couldn't be calculated for ExtraTreeClassifier\n",
      "multi_class must be in ('ovo', 'ovr')\n"
     ]
    },
    {
     "name": "stderr",
     "output_type": "stream",
     "text": [
      " 41%|████▏     | 12/29 [00:01<00:02,  7.13it/s]"
     ]
    },
    {
     "name": "stdout",
     "output_type": "stream",
     "text": [
      "ROC AUC couldn't be calculated for ExtraTreesClassifier\n",
      "multi_class must be in ('ovo', 'ovr')\n",
      "ROC AUC couldn't be calculated for GaussianNB\n",
      "multi_class must be in ('ovo', 'ovr')\n",
      "ROC AUC couldn't be calculated for KNeighborsClassifier\n",
      "multi_class must be in ('ovo', 'ovr')\n",
      "ROC AUC couldn't be calculated for LabelPropagation\n",
      "multi_class must be in ('ovo', 'ovr')\n"
     ]
    },
    {
     "name": "stderr",
     "output_type": "stream",
     "text": [
      " 48%|████▊     | 14/29 [00:02<00:01,  7.69it/s]"
     ]
    },
    {
     "name": "stdout",
     "output_type": "stream",
     "text": [
      "ROC AUC couldn't be calculated for LabelSpreading\n",
      "multi_class must be in ('ovo', 'ovr')\n",
      "ROC AUC couldn't be calculated for LinearDiscriminantAnalysis\n",
      "multi_class must be in ('ovo', 'ovr')\n"
     ]
    },
    {
     "name": "stderr",
     "output_type": "stream",
     "text": [
      " 55%|█████▌    | 16/29 [00:02<00:02,  6.48it/s]"
     ]
    },
    {
     "name": "stdout",
     "output_type": "stream",
     "text": [
      "ROC AUC couldn't be calculated for LinearSVC\n",
      "multi_class must be in ('ovo', 'ovr')\n",
      "ROC AUC couldn't be calculated for LogisticRegression\n",
      "multi_class must be in ('ovo', 'ovr')\n",
      "ROC AUC couldn't be calculated for NearestCentroid\n",
      "multi_class must be in ('ovo', 'ovr')\n",
      "NuSVC model failed to execute\n",
      "specified nu is infeasible\n",
      "ROC AUC couldn't be calculated for PassiveAggressiveClassifier\n",
      "multi_class must be in ('ovo', 'ovr')\n",
      "ROC AUC couldn't be calculated for Perceptron\n",
      "multi_class must be in ('ovo', 'ovr')\n"
     ]
    },
    {
     "name": "stderr",
     "output_type": "stream",
     "text": [
      " 72%|███████▏  | 21/29 [00:02<00:00, 11.54it/s]"
     ]
    },
    {
     "name": "stdout",
     "output_type": "stream",
     "text": [
      "ROC AUC couldn't be calculated for QuadraticDiscriminantAnalysis\n",
      "multi_class must be in ('ovo', 'ovr')\n"
     ]
    },
    {
     "name": "stderr",
     "output_type": "stream",
     "text": [
      " 90%|████████▉ | 26/29 [00:03<00:00,  7.95it/s]"
     ]
    },
    {
     "name": "stdout",
     "output_type": "stream",
     "text": [
      "ROC AUC couldn't be calculated for RandomForestClassifier\n",
      "multi_class must be in ('ovo', 'ovr')\n",
      "ROC AUC couldn't be calculated for RidgeClassifier\n",
      "multi_class must be in ('ovo', 'ovr')\n",
      "ROC AUC couldn't be calculated for RidgeClassifierCV\n",
      "multi_class must be in ('ovo', 'ovr')\n",
      "ROC AUC couldn't be calculated for SGDClassifier\n",
      "multi_class must be in ('ovo', 'ovr')\n",
      "ROC AUC couldn't be calculated for SVC\n",
      "multi_class must be in ('ovo', 'ovr')\n",
      "StackingClassifier model failed to execute\n",
      "StackingClassifier.__init__() missing 1 required positional argument: 'estimators'\n",
      "XGBClassifier model failed to execute\n",
      "Invalid classes inferred from unique values of `y`.  Expected: [0 1 2 3 4 5], got [3 4 5 6 7 8]\n",
      "[LightGBM] [Warning] Auto-choosing row-wise multi-threading, the overhead of testing was 0.001029 seconds.\n",
      "You can set `force_row_wise=true` to remove the overhead.\n",
      "And if memory is not enough, you can set `force_col_wise=true`.\n",
      "[LightGBM] [Info] Total Bins 953\n",
      "[LightGBM] [Info] Number of data points in the train set: 914, number of used features: 11\n",
      "[LightGBM] [Info] Start training from score -5.208393\n",
      "[LightGBM] [Info] Start training from score -3.559734\n",
      "[LightGBM] [Info] Start training from score -0.841480\n",
      "[LightGBM] [Info] Start training from score -0.912469\n",
      "[LightGBM] [Info] Start training from score -2.145002\n",
      "[LightGBM] [Info] Start training from score -4.109780\n",
      "[LightGBM] [Warning] No further splits with positive gain, best gain: -inf\n",
      "[LightGBM] [Warning] No further splits with positive gain, best gain: -inf\n",
      "[LightGBM] [Warning] No further splits with positive gain, best gain: -inf\n",
      "[LightGBM] [Warning] No further splits with positive gain, best gain: -inf\n",
      "[LightGBM] [Warning] No further splits with positive gain, best gain: -inf\n",
      "[LightGBM] [Warning] No further splits with positive gain, best gain: -inf\n",
      "[LightGBM] [Warning] No further splits with positive gain, best gain: -inf\n",
      "[LightGBM] [Warning] No further splits with positive gain, best gain: -inf\n",
      "[LightGBM] [Warning] No further splits with positive gain, best gain: -inf\n",
      "[LightGBM] [Warning] No further splits with positive gain, best gain: -inf\n",
      "[LightGBM] [Warning] No further splits with positive gain, best gain: -inf\n",
      "[LightGBM] [Warning] No further splits with positive gain, best gain: -inf\n",
      "[LightGBM] [Warning] No further splits with positive gain, best gain: -inf\n",
      "[LightGBM] [Warning] No further splits with positive gain, best gain: -inf\n",
      "[LightGBM] [Warning] No further splits with positive gain, best gain: -inf\n",
      "[LightGBM] [Warning] No further splits with positive gain, best gain: -inf\n",
      "[LightGBM] [Warning] No further splits with positive gain, best gain: -inf\n",
      "[LightGBM] [Warning] No further splits with positive gain, best gain: -inf\n",
      "[LightGBM] [Warning] No further splits with positive gain, best gain: -inf\n",
      "[LightGBM] [Warning] No further splits with positive gain, best gain: -inf\n",
      "[LightGBM] [Warning] No further splits with positive gain, best gain: -inf\n",
      "[LightGBM] [Warning] No further splits with positive gain, best gain: -inf\n",
      "[LightGBM] [Warning] No further splits with positive gain, best gain: -inf\n",
      "[LightGBM] [Warning] No further splits with positive gain, best gain: -inf\n",
      "[LightGBM] [Warning] No further splits with positive gain, best gain: -inf\n",
      "[LightGBM] [Warning] No further splits with positive gain, best gain: -inf\n",
      "[LightGBM] [Warning] No further splits with positive gain, best gain: -inf\n",
      "[LightGBM] [Warning] No further splits with positive gain, best gain: -inf\n",
      "[LightGBM] [Warning] No further splits with positive gain, best gain: -inf\n",
      "[LightGBM] [Warning] No further splits with positive gain, best gain: -inf\n",
      "[LightGBM] [Warning] No further splits with positive gain, best gain: -inf\n",
      "[LightGBM] [Warning] No further splits with positive gain, best gain: -inf\n",
      "[LightGBM] [Warning] No further splits with positive gain, best gain: -inf\n",
      "[LightGBM] [Warning] No further splits with positive gain, best gain: -inf\n",
      "[LightGBM] [Warning] No further splits with positive gain, best gain: -inf\n",
      "[LightGBM] [Warning] No further splits with positive gain, best gain: -inf\n",
      "[LightGBM] [Warning] No further splits with positive gain, best gain: -inf\n",
      "[LightGBM] [Warning] No further splits with positive gain, best gain: -inf\n",
      "[LightGBM] [Warning] No further splits with positive gain, best gain: -inf\n",
      "[LightGBM] [Warning] No further splits with positive gain, best gain: -inf\n",
      "[LightGBM] [Warning] No further splits with positive gain, best gain: -inf\n",
      "[LightGBM] [Warning] No further splits with positive gain, best gain: -inf\n",
      "[LightGBM] [Warning] No further splits with positive gain, best gain: -inf\n",
      "[LightGBM] [Warning] No further splits with positive gain, best gain: -inf\n",
      "[LightGBM] [Warning] No further splits with positive gain, best gain: -inf\n",
      "[LightGBM] [Warning] No further splits with positive gain, best gain: -inf\n",
      "[LightGBM] [Warning] No further splits with positive gain, best gain: -inf\n",
      "[LightGBM] [Warning] No further splits with positive gain, best gain: -inf\n",
      "[LightGBM] [Warning] No further splits with positive gain, best gain: -inf\n",
      "[LightGBM] [Warning] No further splits with positive gain, best gain: -inf\n",
      "[LightGBM] [Warning] No further splits with positive gain, best gain: -inf\n",
      "[LightGBM] [Warning] No further splits with positive gain, best gain: -inf\n",
      "[LightGBM] [Warning] No further splits with positive gain, best gain: -inf\n",
      "[LightGBM] [Warning] No further splits with positive gain, best gain: -inf\n",
      "[LightGBM] [Warning] No further splits with positive gain, best gain: -inf\n",
      "[LightGBM] [Warning] No further splits with positive gain, best gain: -inf\n",
      "[LightGBM] [Warning] No further splits with positive gain, best gain: -inf\n",
      "[LightGBM] [Warning] No further splits with positive gain, best gain: -inf\n",
      "[LightGBM] [Warning] No further splits with positive gain, best gain: -inf\n",
      "[LightGBM] [Warning] No further splits with positive gain, best gain: -inf\n",
      "[LightGBM] [Warning] No further splits with positive gain, best gain: -inf\n",
      "[LightGBM] [Warning] No further splits with positive gain, best gain: -inf\n",
      "[LightGBM] [Warning] No further splits with positive gain, best gain: -inf\n"
     ]
    },
    {
     "name": "stderr",
     "output_type": "stream",
     "text": [
      "100%|██████████| 29/29 [00:04<00:00,  6.97it/s]"
     ]
    },
    {
     "name": "stdout",
     "output_type": "stream",
     "text": [
      "[LightGBM] [Warning] No further splits with positive gain, best gain: -inf\n",
      "ROC AUC couldn't be calculated for LGBMClassifier\n",
      "multi_class must be in ('ovo', 'ovr')\n",
      "                               Accuracy  Balanced Accuracy ROC AUC  F1 Score  \\\n",
      "Model                                                                          \n",
      "GaussianNB                         0.46               0.42    None      0.48   \n",
      "AdaBoostClassifier                 0.52               0.40    None      0.49   \n",
      "LogisticRegression                 0.50               0.39    None      0.46   \n",
      "LinearDiscriminantAnalysis         0.44               0.38    None      0.45   \n",
      "PassiveAggressiveClassifier        0.38               0.35    None      0.38   \n",
      "LabelPropagation                   0.53               0.32    None      0.52   \n",
      "LabelSpreading                     0.53               0.32    None      0.52   \n",
      "BernoulliNB                        0.59               0.31    None      0.57   \n",
      "KNeighborsClassifier               0.51               0.29    None      0.49   \n",
      "NearestCentroid                    0.20               0.29    None      0.25   \n",
      "DecisionTreeClassifier             0.48               0.27    None      0.48   \n",
      "QuadraticDiscriminantAnalysis      0.45               0.26    None      0.43   \n",
      "RandomForestClassifier             0.55               0.26    None      0.52   \n",
      "SVC                                0.57               0.26    None      0.53   \n",
      "ExtraTreesClassifier               0.55               0.26    None      0.52   \n",
      "LGBMClassifier                     0.54               0.25    None      0.50   \n",
      "ExtraTreeClassifier                0.45               0.24    None      0.47   \n",
      "SGDClassifier                      0.50               0.24    None      0.48   \n",
      "BaggingClassifier                  0.50               0.23    None      0.47   \n",
      "LinearSVC                          0.51               0.23    None      0.45   \n",
      "CalibratedClassifierCV             0.52               0.23    None      0.46   \n",
      "RidgeClassifier                    0.50               0.22    None      0.43   \n",
      "RidgeClassifierCV                  0.50               0.22    None      0.42   \n",
      "Perceptron                         0.44               0.20    None      0.44   \n",
      "DummyClassifier                    0.39               0.17    None      0.22   \n",
      "\n",
      "                               Time Taken  \n",
      "Model                                      \n",
      "GaussianNB                           0.02  \n",
      "AdaBoostClassifier                   0.33  \n",
      "LogisticRegression                   0.09  \n",
      "LinearDiscriminantAnalysis           0.06  \n",
      "PassiveAggressiveClassifier          0.03  \n",
      "LabelPropagation                     0.12  \n",
      "LabelSpreading                       0.15  \n",
      "BernoulliNB                          0.02  \n",
      "KNeighborsClassifier                 0.05  \n",
      "NearestCentroid                      0.03  \n",
      "DecisionTreeClassifier               0.05  \n",
      "QuadraticDiscriminantAnalysis        0.03  \n",
      "RandomForestClassifier               0.80  \n",
      "SVC                                  0.10  \n",
      "ExtraTreesClassifier                 0.66  \n",
      "LGBMClassifier                       0.60  \n",
      "ExtraTreeClassifier                  0.03  \n",
      "SGDClassifier                        0.03  \n",
      "BaggingClassifier                    0.29  \n",
      "LinearSVC                            0.33  \n",
      "CalibratedClassifierCV               0.20  \n",
      "RidgeClassifier                      0.03  \n",
      "RidgeClassifierCV                    0.03  \n",
      "Perceptron                           0.02  \n",
      "DummyClassifier                      0.02                                  Accuracy  Balanced Accuracy ROC AUC  F1 Score  \\\n",
      "Model                                                                          \n",
      "GaussianNB                         0.46               0.42    None      0.48   \n",
      "AdaBoostClassifier                 0.52               0.40    None      0.49   \n",
      "LogisticRegression                 0.50               0.39    None      0.46   \n",
      "LinearDiscriminantAnalysis         0.44               0.38    None      0.45   \n",
      "PassiveAggressiveClassifier        0.38               0.35    None      0.38   \n",
      "LabelPropagation                   0.53               0.32    None      0.52   \n",
      "LabelSpreading                     0.53               0.32    None      0.52   \n",
      "BernoulliNB                        0.59               0.31    None      0.57   \n",
      "KNeighborsClassifier               0.51               0.29    None      0.49   \n",
      "NearestCentroid                    0.20               0.29    None      0.25   \n",
      "DecisionTreeClassifier             0.48               0.27    None      0.48   \n",
      "QuadraticDiscriminantAnalysis      0.45               0.26    None      0.43   \n",
      "RandomForestClassifier             0.55               0.26    None      0.52   \n",
      "SVC                                0.57               0.26    None      0.53   \n",
      "ExtraTreesClassifier               0.55               0.26    None      0.52   \n",
      "LGBMClassifier                     0.54               0.25    None      0.50   \n",
      "ExtraTreeClassifier                0.45               0.24    None      0.47   \n",
      "SGDClassifier                      0.50               0.24    None      0.48   \n",
      "BaggingClassifier                  0.50               0.23    None      0.47   \n",
      "LinearSVC                          0.51               0.23    None      0.45   \n",
      "CalibratedClassifierCV             0.52               0.23    None      0.46   \n",
      "RidgeClassifier                    0.50               0.22    None      0.43   \n",
      "RidgeClassifierCV                  0.50               0.22    None      0.42   \n",
      "Perceptron                         0.44               0.20    None      0.44   \n",
      "DummyClassifier                    0.39               0.17    None      0.22   \n",
      "\n",
      "                               Time Taken  \n",
      "Model                                      \n",
      "GaussianNB                           0.02  \n",
      "AdaBoostClassifier                   0.33  \n",
      "LogisticRegression                   0.09  \n",
      "LinearDiscriminantAnalysis           0.06  \n",
      "PassiveAggressiveClassifier          0.03  \n",
      "LabelPropagation                     0.12  \n",
      "LabelSpreading                       0.15  \n",
      "BernoulliNB                          0.02  \n",
      "KNeighborsClassifier                 0.05  \n",
      "NearestCentroid                      0.03  \n",
      "DecisionTreeClassifier               0.05  \n",
      "QuadraticDiscriminantAnalysis        0.03  \n",
      "RandomForestClassifier               0.80  \n",
      "SVC                                  0.10  \n",
      "ExtraTreesClassifier                 0.66  \n",
      "LGBMClassifier                       0.60  \n",
      "ExtraTreeClassifier                  0.03  \n",
      "SGDClassifier                        0.03  \n",
      "BaggingClassifier                    0.29  \n",
      "LinearSVC                            0.33  \n",
      "CalibratedClassifierCV               0.20  \n",
      "RidgeClassifier                      0.03  \n",
      "RidgeClassifierCV                    0.03  \n",
      "Perceptron                           0.02  \n",
      "DummyClassifier                      0.02  \n"
     ]
    },
    {
     "name": "stderr",
     "output_type": "stream",
     "text": [
      "\n"
     ]
    }
   ],
   "source": [
    "from lazypredict.Supervised import LazyClassifier \n",
    "clf = LazyClassifier(verbose=0, \n",
    "                     ignore_warnings=False, \n",
    "                     custom_metric=None) \n",
    "models, predictions = clf.fit(X_Train, X_Test, \n",
    "                              y_train, y_test) \n",
    "print(models,predictions) \n"
   ]
  },
  {
   "cell_type": "markdown",
   "metadata": {},
   "source": [
    "## Lazy predict for standardised datset "
   ]
  },
  {
   "cell_type": "code",
   "execution_count": 309,
   "metadata": {},
   "outputs": [
    {
     "name": "stderr",
     "output_type": "stream",
     "text": [
      "  0%|          | 0/42 [00:00<?, ?it/s]"
     ]
    },
    {
     "name": "stderr",
     "output_type": "stream",
     "text": [
      "100%|██████████| 42/42 [00:40<00:00,  1.03it/s]"
     ]
    },
    {
     "name": "stdout",
     "output_type": "stream",
     "text": [
      "[LightGBM] [Warning] Auto-choosing col-wise multi-threading, the overhead of testing was 0.000359 seconds.\n",
      "You can set `force_col_wise=true` to remove the overhead.\n",
      "[LightGBM] [Info] Total Bins 953\n",
      "[LightGBM] [Info] Number of data points in the train set: 914, number of used features: 11\n",
      "[LightGBM] [Info] Start training from score 5.645514\n",
      "                               Adjusted R-Squared  R-Squared  RMSE  Time Taken\n",
      "Model                                                                         \n",
      "ExtraTreesRegressor                          0.47       0.49  0.57        0.65\n",
      "RandomForestRegressor                        0.42       0.45  0.59        2.16\n",
      "HistGradientBoostingRegressor                0.40       0.43  0.60        0.74\n",
      "NuSVR                                        0.40       0.43  0.61        0.11\n",
      "LGBMRegressor                                0.39       0.42  0.61        0.13\n",
      "SVR                                          0.39       0.42  0.61        0.19\n",
      "GradientBoostingRegressor                    0.33       0.36  0.64        0.53\n",
      "AdaBoostRegressor                            0.33       0.36  0.64        0.36\n",
      "BaggingRegressor                             0.33       0.36  0.64        0.27\n",
      "ElasticNetCV                                 0.30       0.34  0.65        0.12\n",
      "LassoCV                                      0.30       0.34  0.65        0.20\n",
      "LassoLarsCV                                  0.30       0.34  0.65        0.04\n",
      "LarsCV                                       0.30       0.34  0.65        0.05\n",
      "OrthogonalMatchingPursuitCV                  0.30       0.34  0.65        0.03\n",
      "LassoLarsIC                                  0.30       0.33  0.65        0.04\n",
      "PoissonRegressor                             0.30       0.33  0.65        0.02\n",
      "BayesianRidge                                0.30       0.33  0.65        0.02\n",
      "RidgeCV                                      0.29       0.33  0.65        0.03\n",
      "Ridge                                        0.29       0.33  0.65        0.03\n",
      "Lars                                         0.29       0.33  0.65        0.04\n",
      "TransformedTargetRegressor                   0.29       0.33  0.65        0.03\n",
      "LinearRegression                             0.29       0.33  0.65        0.02\n",
      "SGDRegressor                                 0.29       0.33  0.66        0.02\n",
      "XGBRegressor                                 0.29       0.32  0.66        0.22\n",
      "HuberRegressor                               0.28       0.32  0.66        0.05\n",
      "TweedieRegressor                             0.27       0.30  0.67        0.04\n",
      "GammaRegressor                               0.27       0.30  0.67        0.02\n",
      "LinearSVR                                    0.25       0.29  0.67        0.04\n",
      "KNeighborsRegressor                          0.25       0.29  0.67        0.03\n",
      "OrthogonalMatchingPursuit                    0.17       0.21  0.71        0.01\n",
      "RANSACRegressor                              0.03       0.08  0.77        0.22\n",
      "PassiveAggressiveRegressor                  -0.05      -0.00  0.80        0.01\n",
      "DummyRegressor                              -0.06      -0.01  0.80        0.01\n",
      "ElasticNet                                  -0.06      -0.01  0.80        0.03\n",
      "LassoLars                                   -0.06      -0.01  0.80        0.02\n",
      "Lasso                                       -0.06      -0.01  0.80        0.02\n",
      "MLPRegressor                                -0.08      -0.03  0.81        1.44\n",
      "QuantileRegressor                           -0.20      -0.14  0.85       32.33\n",
      "DecisionTreeRegressor                       -0.25      -0.19  0.87        0.03\n",
      "ExtraTreeRegressor                          -0.25      -0.19  0.87        0.02\n",
      "GaussianProcessRegressor                    -3.56      -3.34  1.66        0.15\n",
      "KernelRidge                                -53.37     -50.75  5.74        0.08                                Adjusted R-Squared  R-Squared  RMSE  Time Taken\n",
      "Model                                                                         \n",
      "ExtraTreesRegressor                          0.47       0.49  0.57        0.65\n",
      "RandomForestRegressor                        0.42       0.45  0.59        2.16\n",
      "HistGradientBoostingRegressor                0.40       0.43  0.60        0.74\n",
      "NuSVR                                        0.40       0.43  0.61        0.11\n",
      "LGBMRegressor                                0.39       0.42  0.61        0.13\n",
      "SVR                                          0.39       0.42  0.61        0.19\n",
      "GradientBoostingRegressor                    0.33       0.36  0.64        0.53\n",
      "AdaBoostRegressor                            0.33       0.36  0.64        0.36\n",
      "BaggingRegressor                             0.33       0.36  0.64        0.27\n",
      "ElasticNetCV                                 0.30       0.34  0.65        0.12\n",
      "LassoCV                                      0.30       0.34  0.65        0.20\n",
      "LassoLarsCV                                  0.30       0.34  0.65        0.04\n",
      "LarsCV                                       0.30       0.34  0.65        0.05\n",
      "OrthogonalMatchingPursuitCV                  0.30       0.34  0.65        0.03\n",
      "LassoLarsIC                                  0.30       0.33  0.65        0.04\n",
      "PoissonRegressor                             0.30       0.33  0.65        0.02\n",
      "BayesianRidge                                0.30       0.33  0.65        0.02\n",
      "RidgeCV                                      0.29       0.33  0.65        0.03\n",
      "Ridge                                        0.29       0.33  0.65        0.03\n",
      "Lars                                         0.29       0.33  0.65        0.04\n",
      "TransformedTargetRegressor                   0.29       0.33  0.65        0.03\n",
      "LinearRegression                             0.29       0.33  0.65        0.02\n",
      "SGDRegressor                                 0.29       0.33  0.66        0.02\n",
      "XGBRegressor                                 0.29       0.32  0.66        0.22\n",
      "HuberRegressor                               0.28       0.32  0.66        0.05\n",
      "TweedieRegressor                             0.27       0.30  0.67        0.04\n",
      "GammaRegressor                               0.27       0.30  0.67        0.02\n",
      "LinearSVR                                    0.25       0.29  0.67        0.04\n",
      "KNeighborsRegressor                          0.25       0.29  0.67        0.03\n",
      "OrthogonalMatchingPursuit                    0.17       0.21  0.71        0.01\n",
      "RANSACRegressor                              0.03       0.08  0.77        0.22\n",
      "PassiveAggressiveRegressor                  -0.05      -0.00  0.80        0.01\n",
      "DummyRegressor                              -0.06      -0.01  0.80        0.01\n",
      "ElasticNet                                  -0.06      -0.01  0.80        0.03\n",
      "LassoLars                                   -0.06      -0.01  0.80        0.02\n",
      "Lasso                                       -0.06      -0.01  0.80        0.02\n",
      "MLPRegressor                                -0.08      -0.03  0.81        1.44\n",
      "QuantileRegressor                           -0.20      -0.14  0.85       32.33\n",
      "DecisionTreeRegressor                       -0.25      -0.19  0.87        0.03\n",
      "ExtraTreeRegressor                          -0.25      -0.19  0.87        0.02\n",
      "GaussianProcessRegressor                    -3.56      -3.34  1.66        0.15\n",
      "KernelRidge                                -53.37     -50.75  5.74        0.08\n"
     ]
    },
    {
     "name": "stderr",
     "output_type": "stream",
     "text": [
      "\n"
     ]
    }
   ],
   "source": [
    "from lazypredict.Supervised import LazyRegressor \n",
    "clf = LazyRegressor(verbose=0, \n",
    "                     ignore_warnings=False, \n",
    "                     custom_metric=None) \n",
    "models, predictions = clf.fit(X_train, X_test, \n",
    "                              y_train, y_test) \n",
    "print(models,predictions) "
   ]
  },
  {
   "cell_type": "code",
   "execution_count": 310,
   "metadata": {},
   "outputs": [
    {
     "name": "stderr",
     "output_type": "stream",
     "text": [
      "  0%|          | 0/29 [00:00<?, ?it/s]"
     ]
    },
    {
     "name": "stderr",
     "output_type": "stream",
     "text": [
      "  3%|▎         | 1/29 [00:00<00:08,  3.24it/s]"
     ]
    },
    {
     "name": "stdout",
     "output_type": "stream",
     "text": [
      "ROC AUC couldn't be calculated for AdaBoostClassifier\n",
      "multi_class must be in ('ovo', 'ovr')\n"
     ]
    },
    {
     "name": "stderr",
     "output_type": "stream",
     "text": [
      "  7%|▋         | 2/29 [00:00<00:09,  2.77it/s]"
     ]
    },
    {
     "name": "stdout",
     "output_type": "stream",
     "text": [
      "ROC AUC couldn't be calculated for BaggingClassifier\n",
      "multi_class must be in ('ovo', 'ovr')\n",
      "ROC AUC couldn't be calculated for BernoulliNB\n",
      "multi_class must be in ('ovo', 'ovr')\n"
     ]
    },
    {
     "name": "stderr",
     "output_type": "stream",
     "text": [
      " 14%|█▍        | 4/29 [00:00<00:05,  4.47it/s]"
     ]
    },
    {
     "name": "stdout",
     "output_type": "stream",
     "text": [
      "ROC AUC couldn't be calculated for CalibratedClassifierCV\n",
      "multi_class must be in ('ovo', 'ovr')\n",
      "CategoricalNB model failed to execute\n",
      "Negative values in data passed to CategoricalNB (input X)\n",
      "ROC AUC couldn't be calculated for DecisionTreeClassifier\n",
      "multi_class must be in ('ovo', 'ovr')\n",
      "ROC AUC couldn't be calculated for DummyClassifier\n",
      "multi_class must be in ('ovo', 'ovr')\n",
      "ROC AUC couldn't be calculated for ExtraTreeClassifier\n",
      "multi_class must be in ('ovo', 'ovr')\n"
     ]
    },
    {
     "name": "stderr",
     "output_type": "stream",
     "text": [
      " 41%|████▏     | 12/29 [00:01<00:02,  7.43it/s]"
     ]
    },
    {
     "name": "stdout",
     "output_type": "stream",
     "text": [
      "ROC AUC couldn't be calculated for ExtraTreesClassifier\n",
      "multi_class must be in ('ovo', 'ovr')\n",
      "ROC AUC couldn't be calculated for GaussianNB\n",
      "multi_class must be in ('ovo', 'ovr')\n",
      "ROC AUC couldn't be calculated for KNeighborsClassifier\n",
      "multi_class must be in ('ovo', 'ovr')\n",
      "ROC AUC couldn't be calculated for LabelPropagation\n",
      "multi_class must be in ('ovo', 'ovr')\n"
     ]
    },
    {
     "name": "stderr",
     "output_type": "stream",
     "text": [
      " 45%|████▍     | 13/29 [00:02<00:02,  7.67it/s]"
     ]
    },
    {
     "name": "stdout",
     "output_type": "stream",
     "text": [
      "ROC AUC couldn't be calculated for LabelSpreading\n",
      "multi_class must be in ('ovo', 'ovr')\n",
      "ROC AUC couldn't be calculated for LinearDiscriminantAnalysis\n",
      "multi_class must be in ('ovo', 'ovr')\n"
     ]
    },
    {
     "name": "stderr",
     "output_type": "stream",
     "text": [
      " 55%|█████▌    | 16/29 [00:02<00:01,  7.18it/s]"
     ]
    },
    {
     "name": "stdout",
     "output_type": "stream",
     "text": [
      "ROC AUC couldn't be calculated for LinearSVC\n",
      "multi_class must be in ('ovo', 'ovr')\n",
      "ROC AUC couldn't be calculated for LogisticRegression\n",
      "multi_class must be in ('ovo', 'ovr')\n",
      "ROC AUC couldn't be calculated for NearestCentroid\n",
      "multi_class must be in ('ovo', 'ovr')\n",
      "NuSVC model failed to execute\n",
      "specified nu is infeasible\n",
      "ROC AUC couldn't be calculated for PassiveAggressiveClassifier\n",
      "multi_class must be in ('ovo', 'ovr')\n"
     ]
    },
    {
     "name": "stderr",
     "output_type": "stream",
     "text": [
      " 69%|██████▉   | 20/29 [00:02<00:00, 11.48it/s]"
     ]
    },
    {
     "name": "stdout",
     "output_type": "stream",
     "text": [
      "ROC AUC couldn't be calculated for Perceptron\n",
      "multi_class must be in ('ovo', 'ovr')\n",
      "ROC AUC couldn't be calculated for QuadraticDiscriminantAnalysis\n",
      "multi_class must be in ('ovo', 'ovr')\n"
     ]
    },
    {
     "name": "stderr",
     "output_type": "stream",
     "text": [
      " 86%|████████▌ | 25/29 [00:04<00:00,  5.96it/s]"
     ]
    },
    {
     "name": "stdout",
     "output_type": "stream",
     "text": [
      "ROC AUC couldn't be calculated for RandomForestClassifier\n",
      "multi_class must be in ('ovo', 'ovr')\n",
      "ROC AUC couldn't be calculated for RidgeClassifier\n",
      "multi_class must be in ('ovo', 'ovr')\n",
      "ROC AUC couldn't be calculated for RidgeClassifierCV\n",
      "multi_class must be in ('ovo', 'ovr')\n",
      "ROC AUC couldn't be calculated for SGDClassifier\n",
      "multi_class must be in ('ovo', 'ovr')\n"
     ]
    },
    {
     "name": "stderr",
     "output_type": "stream",
     "text": [
      " 93%|█████████▎| 27/29 [00:04<00:00,  6.62it/s]"
     ]
    },
    {
     "name": "stdout",
     "output_type": "stream",
     "text": [
      "ROC AUC couldn't be calculated for SVC\n",
      "multi_class must be in ('ovo', 'ovr')\n",
      "StackingClassifier model failed to execute\n",
      "StackingClassifier.__init__() missing 1 required positional argument: 'estimators'\n",
      "XGBClassifier model failed to execute\n",
      "Invalid classes inferred from unique values of `y`.  Expected: [0 1 2 3 4 5], got [3 4 5 6 7 8]\n",
      "[LightGBM] [Warning] Auto-choosing col-wise multi-threading, the overhead of testing was 0.000407 seconds.\n",
      "You can set `force_col_wise=true` to remove the overhead.\n",
      "[LightGBM] [Info] Total Bins 953\n",
      "[LightGBM] [Info] Number of data points in the train set: 914, number of used features: 11\n",
      "[LightGBM] [Info] Start training from score -5.208393\n",
      "[LightGBM] [Info] Start training from score -3.559734\n",
      "[LightGBM] [Info] Start training from score -0.841480\n",
      "[LightGBM] [Info] Start training from score -0.912469\n",
      "[LightGBM] [Info] Start training from score -2.145002\n",
      "[LightGBM] [Info] Start training from score -4.109780\n",
      "[LightGBM] [Warning] No further splits with positive gain, best gain: -inf\n",
      "[LightGBM] [Warning] No further splits with positive gain, best gain: -inf\n",
      "[LightGBM] [Warning] No further splits with positive gain, best gain: -inf\n",
      "[LightGBM] [Warning] No further splits with positive gain, best gain: -inf\n",
      "[LightGBM] [Warning] No further splits with positive gain, best gain: -inf\n",
      "[LightGBM] [Warning] No further splits with positive gain, best gain: -inf\n",
      "[LightGBM] [Warning] No further splits with positive gain, best gain: -inf\n",
      "[LightGBM] [Warning] No further splits with positive gain, best gain: -inf\n",
      "[LightGBM] [Warning] No further splits with positive gain, best gain: -inf\n",
      "[LightGBM] [Warning] No further splits with positive gain, best gain: -inf\n",
      "[LightGBM] [Warning] No further splits with positive gain, best gain: -inf\n",
      "[LightGBM] [Warning] No further splits with positive gain, best gain: -inf\n",
      "[LightGBM] [Warning] No further splits with positive gain, best gain: -inf\n",
      "[LightGBM] [Warning] No further splits with positive gain, best gain: -inf\n",
      "[LightGBM] [Warning] No further splits with positive gain, best gain: -inf\n",
      "[LightGBM] [Warning] No further splits with positive gain, best gain: -inf\n",
      "[LightGBM] [Warning] No further splits with positive gain, best gain: -inf\n",
      "[LightGBM] [Warning] No further splits with positive gain, best gain: -inf\n",
      "[LightGBM] [Warning] No further splits with positive gain, best gain: -inf\n",
      "[LightGBM] [Warning] No further splits with positive gain, best gain: -inf\n",
      "[LightGBM] [Warning] No further splits with positive gain, best gain: -inf\n",
      "[LightGBM] [Warning] No further splits with positive gain, best gain: -inf\n",
      "[LightGBM] [Warning] No further splits with positive gain, best gain: -inf\n",
      "[LightGBM] [Warning] No further splits with positive gain, best gain: -inf\n",
      "[LightGBM] [Warning] No further splits with positive gain, best gain: -inf\n",
      "[LightGBM] [Warning] No further splits with positive gain, best gain: -inf\n",
      "[LightGBM] [Warning] No further splits with positive gain, best gain: -inf\n",
      "[LightGBM] [Warning] No further splits with positive gain, best gain: -inf\n",
      "[LightGBM] [Warning] No further splits with positive gain, best gain: -inf\n",
      "[LightGBM] [Warning] No further splits with positive gain, best gain: -inf\n",
      "[LightGBM] [Warning] No further splits with positive gain, best gain: -inf\n",
      "[LightGBM] [Warning] No further splits with positive gain, best gain: -inf\n",
      "[LightGBM] [Warning] No further splits with positive gain, best gain: -inf\n",
      "[LightGBM] [Warning] No further splits with positive gain, best gain: -inf\n",
      "[LightGBM] [Warning] No further splits with positive gain, best gain: -inf\n",
      "[LightGBM] [Warning] No further splits with positive gain, best gain: -inf\n",
      "[LightGBM] [Warning] No further splits with positive gain, best gain: -inf\n",
      "[LightGBM] [Warning] No further splits with positive gain, best gain: -inf\n",
      "[LightGBM] [Warning] No further splits with positive gain, best gain: -inf\n",
      "[LightGBM] [Warning] No further splits with positive gain, best gain: -inf\n",
      "[LightGBM] [Warning] No further splits with positive gain, best gain: -inf\n",
      "[LightGBM] [Warning] No further splits with positive gain, best gain: -inf\n",
      "[LightGBM] [Warning] No further splits with positive gain, best gain: -inf\n",
      "[LightGBM] [Warning] No further splits with positive gain, best gain: -inf\n",
      "[LightGBM] [Warning] No further splits with positive gain, best gain: -inf\n",
      "[LightGBM] [Warning] No further splits with positive gain, best gain: -inf\n",
      "[LightGBM] [Warning] No further splits with positive gain, best gain: -inf\n",
      "[LightGBM] [Warning] No further splits with positive gain, best gain: -inf\n",
      "[LightGBM] [Warning] No further splits with positive gain, best gain: -inf\n",
      "[LightGBM] [Warning] No further splits with positive gain, best gain: -inf\n",
      "[LightGBM] [Warning] No further splits with positive gain, best gain: -inf\n",
      "[LightGBM] [Warning] No further splits with positive gain, best gain: -inf\n",
      "[LightGBM] [Warning] No further splits with positive gain, best gain: -inf\n",
      "[LightGBM] [Warning] No further splits with positive gain, best gain: -inf\n",
      "[LightGBM] [Warning] No further splits with positive gain, best gain: -inf\n",
      "[LightGBM] [Warning] No further splits with positive gain, best gain: -inf\n",
      "[LightGBM] [Warning] No further splits with positive gain, best gain: -inf\n",
      "[LightGBM] [Warning] No further splits with positive gain, best gain: -inf\n",
      "[LightGBM] [Warning] No further splits with positive gain, best gain: -inf\n",
      "[LightGBM] [Warning] No further splits with positive gain, best gain: -inf\n",
      "[LightGBM] [Warning] No further splits with positive gain, best gain: -inf\n",
      "[LightGBM] [Warning] No further splits with positive gain, best gain: -inf\n",
      "[LightGBM] [Warning] No further splits with positive gain, best gain: -inf\n",
      "[LightGBM] [Warning] No further splits with positive gain, best gain: -inf\n"
     ]
    },
    {
     "name": "stderr",
     "output_type": "stream",
     "text": [
      "100%|██████████| 29/29 [00:04<00:00,  5.97it/s]"
     ]
    },
    {
     "name": "stdout",
     "output_type": "stream",
     "text": [
      "ROC AUC couldn't be calculated for LGBMClassifier\n",
      "multi_class must be in ('ovo', 'ovr')\n",
      "                               Accuracy  Balanced Accuracy ROC AUC  F1 Score  \\\n",
      "Model                                                                          \n",
      "QuadraticDiscriminantAnalysis      0.53               0.42    None      0.52   \n",
      "GaussianNB                         0.53               0.42    None      0.53   \n",
      "NearestCentroid                    0.34               0.40    None      0.38   \n",
      "LGBMClassifier                     0.67               0.34    None      0.66   \n",
      "RandomForestClassifier             0.66               0.33    None      0.65   \n",
      "LabelPropagation                   0.64               0.33    None      0.63   \n",
      "LabelSpreading                     0.64               0.33    None      0.63   \n",
      "ExtraTreesClassifier               0.66               0.33    None      0.64   \n",
      "BaggingClassifier                  0.62               0.30    None      0.60   \n",
      "BernoulliNB                        0.55               0.29    None      0.53   \n",
      "SVC                                0.62               0.29    None      0.59   \n",
      "DecisionTreeClassifier             0.55               0.28    None      0.55   \n",
      "KNeighborsClassifier               0.58               0.28    None      0.56   \n",
      "ExtraTreeClassifier                0.56               0.27    None      0.57   \n",
      "LinearDiscriminantAnalysis         0.56               0.27    None      0.55   \n",
      "SGDClassifier                      0.57               0.26    None      0.55   \n",
      "LogisticRegression                 0.57               0.26    None      0.54   \n",
      "CalibratedClassifierCV             0.55               0.23    None      0.50   \n",
      "Perceptron                         0.50               0.23    None      0.48   \n",
      "LinearSVC                          0.55               0.23    None      0.49   \n",
      "RidgeClassifier                    0.54               0.22    None      0.48   \n",
      "RidgeClassifierCV                  0.54               0.22    None      0.48   \n",
      "AdaBoostClassifier                 0.49               0.21    None      0.48   \n",
      "PassiveAggressiveClassifier        0.39               0.19    None      0.38   \n",
      "DummyClassifier                    0.39               0.17    None      0.22   \n",
      "\n",
      "                               Time Taken  \n",
      "Model                                      \n",
      "QuadraticDiscriminantAnalysis        0.04  \n",
      "GaussianNB                           0.03  \n",
      "NearestCentroid                      0.03  \n",
      "LGBMClassifier                       0.51  \n",
      "RandomForestClassifier               1.25  \n",
      "LabelPropagation                     0.10  \n",
      "LabelSpreading                       0.11  \n",
      "ExtraTreesClassifier                 0.69  \n",
      "BaggingClassifier                    0.39  \n",
      "BernoulliNB                          0.03  \n",
      "SVC                                  0.20  \n",
      "DecisionTreeClassifier               0.05  \n",
      "KNeighborsClassifier                 0.05  \n",
      "ExtraTreeClassifier                  0.02  \n",
      "LinearDiscriminantAnalysis           0.03  \n",
      "SGDClassifier                        0.07  \n",
      "LogisticRegression                   0.10  \n",
      "CalibratedClassifierCV               0.25  \n",
      "Perceptron                           0.05  \n",
      "LinearSVC                            0.34  \n",
      "RidgeClassifier                      0.04  \n",
      "RidgeClassifierCV                    0.05  \n",
      "AdaBoostClassifier                   0.31  \n",
      "PassiveAggressiveClassifier          0.05  \n",
      "DummyClassifier                      0.02                                  Accuracy  Balanced Accuracy ROC AUC  F1 Score  \\\n",
      "Model                                                                          \n",
      "QuadraticDiscriminantAnalysis      0.53               0.42    None      0.52   \n",
      "GaussianNB                         0.53               0.42    None      0.53   \n",
      "NearestCentroid                    0.34               0.40    None      0.38   \n",
      "LGBMClassifier                     0.67               0.34    None      0.66   \n",
      "RandomForestClassifier             0.66               0.33    None      0.65   \n",
      "LabelPropagation                   0.64               0.33    None      0.63   \n",
      "LabelSpreading                     0.64               0.33    None      0.63   \n",
      "ExtraTreesClassifier               0.66               0.33    None      0.64   \n",
      "BaggingClassifier                  0.62               0.30    None      0.60   \n",
      "BernoulliNB                        0.55               0.29    None      0.53   \n",
      "SVC                                0.62               0.29    None      0.59   \n",
      "DecisionTreeClassifier             0.55               0.28    None      0.55   \n",
      "KNeighborsClassifier               0.58               0.28    None      0.56   \n",
      "ExtraTreeClassifier                0.56               0.27    None      0.57   \n",
      "LinearDiscriminantAnalysis         0.56               0.27    None      0.55   \n",
      "SGDClassifier                      0.57               0.26    None      0.55   \n",
      "LogisticRegression                 0.57               0.26    None      0.54   \n",
      "CalibratedClassifierCV             0.55               0.23    None      0.50   \n",
      "Perceptron                         0.50               0.23    None      0.48   \n",
      "LinearSVC                          0.55               0.23    None      0.49   \n",
      "RidgeClassifier                    0.54               0.22    None      0.48   \n",
      "RidgeClassifierCV                  0.54               0.22    None      0.48   \n",
      "AdaBoostClassifier                 0.49               0.21    None      0.48   \n",
      "PassiveAggressiveClassifier        0.39               0.19    None      0.38   \n",
      "DummyClassifier                    0.39               0.17    None      0.22   \n",
      "\n",
      "                               Time Taken  \n",
      "Model                                      \n",
      "QuadraticDiscriminantAnalysis        0.04  \n",
      "GaussianNB                           0.03  \n",
      "NearestCentroid                      0.03  \n",
      "LGBMClassifier                       0.51  \n",
      "RandomForestClassifier               1.25  \n",
      "LabelPropagation                     0.10  \n",
      "LabelSpreading                       0.11  \n",
      "ExtraTreesClassifier                 0.69  \n",
      "BaggingClassifier                    0.39  \n",
      "BernoulliNB                          0.03  \n",
      "SVC                                  0.20  \n",
      "DecisionTreeClassifier               0.05  \n",
      "KNeighborsClassifier                 0.05  \n",
      "ExtraTreeClassifier                  0.02  \n",
      "LinearDiscriminantAnalysis           0.03  \n",
      "SGDClassifier                        0.07  \n",
      "LogisticRegression                   0.10  \n",
      "CalibratedClassifierCV               0.25  \n",
      "Perceptron                           0.05  \n",
      "LinearSVC                            0.34  \n",
      "RidgeClassifier                      0.04  \n",
      "RidgeClassifierCV                    0.05  \n",
      "AdaBoostClassifier                   0.31  \n",
      "PassiveAggressiveClassifier          0.05  \n",
      "DummyClassifier                      0.02  \n"
     ]
    },
    {
     "name": "stderr",
     "output_type": "stream",
     "text": [
      "\n"
     ]
    }
   ],
   "source": [
    "from lazypredict.Supervised import LazyClassifier \n",
    "clf = LazyClassifier(verbose=0, \n",
    "                     ignore_warnings=False, \n",
    "                     custom_metric=None) \n",
    "models, predictions = clf.fit(X_train, X_test, \n",
    "                              y_train, y_test) \n",
    "print(models,predictions) "
   ]
  },
  {
   "cell_type": "markdown",
   "metadata": {},
   "source": [
    "## K-nearest neighbours"
   ]
  },
  {
   "cell_type": "code",
   "execution_count": 311,
   "metadata": {},
   "outputs": [
    {
     "name": "stdout",
     "output_type": "stream",
     "text": [
      "Neigbours =  2\n",
      "Score the X-train with Y-train is :  0.7954048140043763\n",
      "Score the X-test  with Y-test  is :  0.5720524017467249\n",
      " Model Evaluation K Neighbors Classifier : accuracy score  0.5720524017467249\n",
      "Neigbours =  3\n",
      "Score the X-train with Y-train is :  0.7691466083150985\n",
      "Score the X-test  with Y-test  is :  0.5633187772925764\n",
      " Model Evaluation K Neighbors Classifier : accuracy score  0.5633187772925764\n",
      "Neigbours =  4\n",
      "Score the X-train with Y-train is :  0.7188183807439825\n",
      "Score the X-test  with Y-test  is :  0.5807860262008734\n",
      " Model Evaluation K Neighbors Classifier : accuracy score  0.5807860262008734\n",
      "Neigbours =  5\n",
      "Score the X-train with Y-train is :  0.6980306345733042\n",
      "Score the X-test  with Y-test  is :  0.5764192139737991\n",
      " Model Evaluation K Neighbors Classifier : accuracy score  0.5764192139737991\n",
      "Neigbours =  6\n",
      "Score the X-train with Y-train is :  0.6849015317286652\n",
      "Score the X-test  with Y-test  is :  0.5414847161572053\n",
      " Model Evaluation K Neighbors Classifier : accuracy score  0.5414847161572053\n",
      "Neigbours =  7\n",
      "Score the X-train with Y-train is :  0.6717724288840262\n",
      "Score the X-test  with Y-test  is :  0.5720524017467249\n",
      " Model Evaluation K Neighbors Classifier : accuracy score  0.5720524017467249\n",
      "Neigbours =  8\n",
      "Score the X-train with Y-train is :  0.6652078774617067\n",
      "Score the X-test  with Y-test  is :  0.5589519650655022\n",
      " Model Evaluation K Neighbors Classifier : accuracy score  0.5589519650655022\n",
      "Neigbours =  9\n",
      "Score the X-train with Y-train is :  0.6652078774617067\n",
      "Score the X-test  with Y-test  is :  0.5764192139737991\n",
      " Model Evaluation K Neighbors Classifier : accuracy score  0.5764192139737991\n",
      "Neigbours =  10\n",
      "Score the X-train with Y-train is :  0.6608315098468271\n",
      "Score the X-test  with Y-test  is :  0.5502183406113537\n",
      " Model Evaluation K Neighbors Classifier : accuracy score  0.5502183406113537\n",
      "Neigbours =  11\n",
      "Score the X-train with Y-train is :  0.6564551422319475\n",
      "Score the X-test  with Y-test  is :  0.5545851528384279\n",
      " Model Evaluation K Neighbors Classifier : accuracy score  0.5545851528384279\n",
      "Neigbours =  12\n",
      "Score the X-train with Y-train is :  0.6389496717724289\n",
      "Score the X-test  with Y-test  is :  0.5676855895196506\n",
      " Model Evaluation K Neighbors Classifier : accuracy score  0.5676855895196506\n",
      "Neigbours =  13\n",
      "Score the X-train with Y-train is :  0.6400437636761488\n",
      "Score the X-test  with Y-test  is :  0.5764192139737991\n",
      " Model Evaluation K Neighbors Classifier : accuracy score  0.5764192139737991\n",
      "Neigbours =  14\n",
      "Score the X-train with Y-train is :  0.6389496717724289\n",
      "Score the X-test  with Y-test  is :  0.5589519650655022\n",
      " Model Evaluation K Neighbors Classifier : accuracy score  0.5589519650655022\n",
      "Neigbours =  15\n",
      "Score the X-train with Y-train is :  0.6312910284463895\n",
      "Score the X-test  with Y-test  is :  0.5807860262008734\n",
      " Model Evaluation K Neighbors Classifier : accuracy score  0.5807860262008734\n",
      "Neigbours =  16\n",
      "Score the X-train with Y-train is :  0.6280087527352297\n",
      "Score the X-test  with Y-test  is :  0.5851528384279476\n",
      " Model Evaluation K Neighbors Classifier : accuracy score  0.5851528384279476\n",
      "Neigbours =  17\n",
      "Score the X-train with Y-train is :  0.6192560175054704\n",
      "Score the X-test  with Y-test  is :  0.5938864628820961\n",
      " Model Evaluation K Neighbors Classifier : accuracy score  0.5938864628820961\n",
      "Neigbours =  18\n",
      "Score the X-train with Y-train is :  0.6258205689277899\n",
      "Score the X-test  with Y-test  is :  0.5938864628820961\n",
      " Model Evaluation K Neighbors Classifier : accuracy score  0.5938864628820961\n",
      "Neigbours =  19\n",
      "Score the X-train with Y-train is :  0.6159737417943107\n",
      "Score the X-test  with Y-test  is :  0.5807860262008734\n",
      " Model Evaluation K Neighbors Classifier : accuracy score  0.5807860262008734\n",
      "Maximum accuracy  =  0.5938864628820961 at_neighbours =  17\n"
     ]
    }
   ],
   "source": [
    "from sklearn.metrics import mean_absolute_error ,mean_squared_error, median_absolute_error,confusion_matrix,accuracy_score\n",
    "from sklearn.neighbors import KNeighborsClassifier\n",
    "max_accuracy = 0\n",
    "at_neighbours = -1\n",
    "for i in range (2,20):\n",
    "    K_model = KNeighborsClassifier(n_neighbors = i)\n",
    "    K_model.fit(X_train, y_train)\n",
    "\n",
    "    y_pred_k = K_model.predict(X_test)\n",
    "    print(\"Neigbours = \",i)\n",
    "    print(\"Score the X-train with Y-train is : \", K_model.score(X_train,y_train))\n",
    "    print(\"Score the X-test  with Y-test  is : \", K_model.score(X_test,y_test))\n",
    "    print(\" Model Evaluation K Neighbors Classifier : accuracy score \" , accuracy_score(y_test,y_pred_k))\n",
    "    if accuracy_score(y_test,y_pred_k) > max_accuracy:\n",
    "        max_accuracy = accuracy_score(y_test,y_pred_k)\n",
    "        at_neighbours= i\n",
    "print(\"Maximum accuracy  = \" ,max_accuracy, \"at_neighbours = \" , at_neighbours )\n",
    "knn_ = max_accuracy\n",
    "K_model= KNeighborsClassifier(n_neighbors=at_neighbours)"
   ]
  },
  {
   "cell_type": "code",
   "execution_count": null,
   "metadata": {},
   "outputs": [],
   "source": []
  },
  {
   "cell_type": "markdown",
   "metadata": {},
   "source": [
    "## normalised"
   ]
  },
  {
   "cell_type": "code",
   "execution_count": 312,
   "metadata": {},
   "outputs": [
    {
     "name": "stdout",
     "output_type": "stream",
     "text": [
      "Neigbours =  2\n",
      "Score the X-train with Y-train is :  0.8052516411378556\n",
      "Score the X-test  with Y-test  is :  0.4759825327510917\n",
      " Model Evaluation K Neighbors Classifier : accuracy score  0.4759825327510917\n",
      "Neigbours =  3\n",
      "Score the X-train with Y-train is :  0.7669584245076586\n",
      "Score the X-test  with Y-test  is :  0.4759825327510917\n",
      " Model Evaluation K Neighbors Classifier : accuracy score  0.4759825327510917\n",
      "Neigbours =  4\n",
      "Score the X-train with Y-train is :  0.7275711159737418\n",
      "Score the X-test  with Y-test  is :  0.5065502183406113\n",
      " Model Evaluation K Neighbors Classifier : accuracy score  0.5065502183406113\n",
      "Neigbours =  5\n",
      "Score the X-train with Y-train is :  0.6892778993435449\n",
      "Score the X-test  with Y-test  is :  0.519650655021834\n",
      " Model Evaluation K Neighbors Classifier : accuracy score  0.519650655021834\n",
      "Neigbours =  6\n",
      "Score the X-train with Y-train is :  0.6728665207877462\n",
      "Score the X-test  with Y-test  is :  0.49344978165938863\n",
      " Model Evaluation K Neighbors Classifier : accuracy score  0.49344978165938863\n",
      "Neigbours =  7\n",
      "Score the X-train with Y-train is :  0.6673960612691466\n",
      "Score the X-test  with Y-test  is :  0.5021834061135371\n",
      " Model Evaluation K Neighbors Classifier : accuracy score  0.5021834061135371\n",
      "Neigbours =  8\n",
      "Score the X-train with Y-train is :  0.6652078774617067\n",
      "Score the X-test  with Y-test  is :  0.5283842794759825\n",
      " Model Evaluation K Neighbors Classifier : accuracy score  0.5283842794759825\n",
      "Neigbours =  9\n",
      "Score the X-train with Y-train is :  0.6586433260393874\n",
      "Score the X-test  with Y-test  is :  0.5458515283842795\n",
      " Model Evaluation K Neighbors Classifier : accuracy score  0.5458515283842795\n",
      "Neigbours =  10\n",
      "Score the X-train with Y-train is :  0.6531728665207878\n",
      "Score the X-test  with Y-test  is :  0.5240174672489083\n",
      " Model Evaluation K Neighbors Classifier : accuracy score  0.5240174672489083\n",
      "Neigbours =  11\n",
      "Score the X-train with Y-train is :  0.6586433260393874\n",
      "Score the X-test  with Y-test  is :  0.5152838427947598\n",
      " Model Evaluation K Neighbors Classifier : accuracy score  0.5152838427947598\n",
      "Neigbours =  12\n",
      "Score the X-train with Y-train is :  0.6586433260393874\n",
      "Score the X-test  with Y-test  is :  0.5240174672489083\n",
      " Model Evaluation K Neighbors Classifier : accuracy score  0.5240174672489083\n",
      "Neigbours =  13\n",
      "Score the X-train with Y-train is :  0.6400437636761488\n",
      "Score the X-test  with Y-test  is :  0.5414847161572053\n",
      " Model Evaluation K Neighbors Classifier : accuracy score  0.5414847161572053\n",
      "Neigbours =  14\n",
      "Score the X-train with Y-train is :  0.6367614879649891\n",
      "Score the X-test  with Y-test  is :  0.5414847161572053\n",
      " Model Evaluation K Neighbors Classifier : accuracy score  0.5414847161572053\n",
      "Neigbours =  15\n",
      "Score the X-train with Y-train is :  0.6400437636761488\n",
      "Score the X-test  with Y-test  is :  0.5807860262008734\n",
      " Model Evaluation K Neighbors Classifier : accuracy score  0.5807860262008734\n",
      "Neigbours =  16\n",
      "Score the X-train with Y-train is :  0.6334792122538293\n",
      "Score the X-test  with Y-test  is :  0.5676855895196506\n",
      " Model Evaluation K Neighbors Classifier : accuracy score  0.5676855895196506\n",
      "Neigbours =  17\n",
      "Score the X-train with Y-train is :  0.637855579868709\n",
      "Score the X-test  with Y-test  is :  0.5720524017467249\n",
      " Model Evaluation K Neighbors Classifier : accuracy score  0.5720524017467249\n",
      "Neigbours =  18\n",
      "Score the X-train with Y-train is :  0.6280087527352297\n",
      "Score the X-test  with Y-test  is :  0.5414847161572053\n",
      " Model Evaluation K Neighbors Classifier : accuracy score  0.5414847161572053\n",
      "Neigbours =  19\n",
      "Score the X-train with Y-train is :  0.6323851203501094\n",
      "Score the X-test  with Y-test  is :  0.5502183406113537\n",
      " Model Evaluation K Neighbors Classifier : accuracy score  0.5502183406113537\n",
      "Maximum accuracy  =  0.5807860262008734 at_neighbours_normal =  15\n"
     ]
    }
   ],
   "source": [
    "max_accuracy_normal = 0\n",
    "at_neighbours_normal = -1\n",
    "for i in range (2,20):\n",
    "    K_model_normal = KNeighborsClassifier(n_neighbors = i)\n",
    "    K_model_normal.fit(X_Train, y_train)\n",
    "\n",
    "    y_pred_k = K_model_normal.predict(X_Test)\n",
    "    print(\"Neigbours = \",i)\n",
    "    print(\"Score the X-train with Y-train is : \", K_model_normal.score(X_Train,y_train))\n",
    "    print(\"Score the X-test  with Y-test  is : \", K_model_normal.score(X_Test,y_test))\n",
    "    print(\" Model Evaluation K Neighbors Classifier : accuracy score \" , accuracy_score(y_test,y_pred_k))\n",
    "    if accuracy_score(y_test,y_pred_k) > max_accuracy_normal:\n",
    "        max_accuracy_normal = accuracy_score(y_test,y_pred_k)\n",
    "        at_neighbours_normal= i\n",
    "print(\"Maximum accuracy  = \" ,max_accuracy_normal, \"at_neighbours_normal = \" , at_neighbours_normal )\n",
    "K_model_normal= KNeighborsClassifier(n_neighbors=at_neighbours_normal)"
   ]
  },
  {
   "cell_type": "code",
   "execution_count": 313,
   "metadata": {},
   "outputs": [
    {
     "data": {
      "image/png": "[encoded data removed]",
      "text/plain": [
       "<Figure size 640x480 with 1 Axes>"
      ]
     },
     "metadata": {},
     "output_type": "display_data"
    }
   ],
   "source": [
    "from sklearn import metrics\n",
    "k_range = list(range(2,26))\n",
    "scores = []\n",
    "for k in k_range:\n",
    "    knn = KNeighborsClassifier(n_neighbors=k)\n",
    "    knn.fit(X, y)\n",
    "    y_pred = knn.predict(X)\n",
    "    scores.append(metrics.accuracy_score(y, y_pred))\n",
    "    \n",
    "plt.plot(k_range, scores)\n",
    "plt.xlabel('Value of k for KNN')\n",
    "plt.ylabel('Accuracy Score')\n",
    "plt.title('Accuracy Scores for Values of k of k-Nearest-Neighbors')\n",
    "plt.show()"
   ]
  },
  {
   "cell_type": "markdown",
   "metadata": {},
   "source": [
    "## Logistic Regressor"
   ]
  },
  {
   "cell_type": "code",
   "execution_count": 314,
   "metadata": {},
   "outputs": [
    {
     "name": "stdout",
     "output_type": "stream",
     "text": [
      "Score the X-train with Y-train is :  0.6094091903719913\n",
      "Score the X-test  with Y-test  is :  0.5589519650655022\n",
      " Model Evaluation Logistic R : mean absolute error is  0.48034934497816595\n",
      " Model Evaluation Logistic R : mean squared  error is  0.5589519650655022\n",
      " Model Evaluation Logistic R : accuracy score  0.5589519650655022\n"
     ]
    }
   ],
   "source": [
    "from sklearn.linear_model import LogisticRegression\n",
    "lregressor=LogisticRegression(solver='liblinear')\n",
    "\n",
    "lregressor.fit(X_train,y_train)\n",
    "\n",
    "print(\"Score the X-train with Y-train is : \", lregressor.score(X_train,y_train))\n",
    "print(\"Score the X-test  with Y-test  is : \", lregressor.score(X_test,y_test))\n",
    "\n",
    "\n",
    "y_pred_Lo=lregressor.predict(X_test)\n",
    "\n",
    "\n",
    "print( \" Model Evaluation Logistic R : mean absolute error is \", mean_absolute_error(y_test,y_pred_Lo))\n",
    "print(\" Model Evaluation Logistic R : mean squared  error is \" , mean_squared_error(y_test,y_pred_Lo))\n",
    "# print(\" Model Evaluation Logistic R : median absolute error is \" ,median_absolute_error(y_test,y_pred_Lo)) \n",
    "\n",
    "print(\" Model Evaluation Logistic R : accuracy score \" , accuracy_score(y_test,y_pred_Lo))\n",
    "lr_ = accuracy_score(y_test,y_pred_Lo)"
   ]
  },
  {
   "cell_type": "markdown",
   "metadata": {},
   "source": [
    "## Normalised"
   ]
  },
  {
   "cell_type": "code",
   "execution_count": 315,
   "metadata": {},
   "outputs": [
    {
     "name": "stdout",
     "output_type": "stream",
     "text": [
      "Score the X-train with Y-train is :  0.5919037199124726\n",
      "Score the X-test  with Y-test  is :  0.5065502183406113\n",
      " Model Evaluation Logistic R : mean absolute error is  0.5458515283842795\n",
      " Model Evaluation Logistic R : mean squared  error is  0.6506550218340611\n",
      " Model Evaluation Logistic R : median absolute error is  0.0\n",
      " Model Evaluation Logistic R : accuracy score  0.5065502183406113\n"
     ]
    }
   ],
   "source": [
    "lregressor_normal=LogisticRegression(solver='liblinear')\n",
    "\n",
    "lregressor_normal.fit(X_Train,y_train)\n",
    "\n",
    "print(\"Score the X-train with Y-train is : \", lregressor_normal.score(X_Train,y_train))\n",
    "print(\"Score the X-test  with Y-test  is : \", lregressor_normal.score(X_Test,y_test))\n",
    "\n",
    "\n",
    "y_pred_Lo=lregressor_normal.predict(X_Test)\n",
    "\n",
    "\n",
    "print( \" Model Evaluation Logistic R : mean absolute error is \", mean_absolute_error(y_test,y_pred_Lo))\n",
    "print(\" Model Evaluation Logistic R : mean squared  error is \" , mean_squared_error(y_test,y_pred_Lo))\n",
    "print(\" Model Evaluation Logistic R : median absolute error is \" ,median_absolute_error(y_test,y_pred_Lo)) \n",
    "\n",
    "print(\" Model Evaluation Logistic R : accuracy score \" , accuracy_score(y_test,y_pred_Lo))"
   ]
  },
  {
   "cell_type": "markdown",
   "metadata": {},
   "source": [
    "## Decision tree Classifier"
   ]
  },
  {
   "cell_type": "code",
   "execution_count": 316,
   "metadata": {},
   "outputs": [
    {
     "name": "stdout",
     "output_type": "stream",
     "text": [
      "max_depth: 2\n",
      "Score on X-train with Y-train: 0.5700218818380745\n",
      "Score on X-test with Y-test: 0.519650655021834\n",
      "max_depth: 3\n",
      "Score on X-train with Y-train: 0.6028446389496718\n",
      "Score on X-test with Y-test: 0.5502183406113537\n",
      "max_depth: 4\n",
      "Score on X-train with Y-train: 0.6444201312910285\n",
      "Score on X-test with Y-test: 0.5720524017467249\n",
      "max_depth: 5\n",
      "Score on X-train with Y-train: 0.6827133479212254\n",
      "Score on X-test with Y-test: 0.5545851528384279\n",
      "max_depth: 6\n",
      "Score on X-train with Y-train: 0.7166301969365426\n",
      "Score on X-test with Y-test: 0.5545851528384279\n",
      "max_depth: 7\n",
      "Score on X-train with Y-train: 0.7603938730853391\n",
      "Score on X-test with Y-test: 0.5545851528384279\n",
      "max_depth: 8\n",
      "Score on X-train with Y-train: 0.7964989059080962\n",
      "Score on X-test with Y-test: 0.5589519650655022\n"
     ]
    },
    {
     "name": "stdout",
     "output_type": "stream",
     "text": [
      "max_depth: 9\n",
      "Score on X-train with Y-train: 0.850109409190372\n",
      "Score on X-test with Y-test: 0.5502183406113537\n",
      "max_depth: 10\n",
      "Score on X-train with Y-train: 0.8960612691466083\n",
      "Score on X-test with Y-test: 0.5502183406113537\n",
      "max_depth: 11\n",
      "Score on X-train with Y-train: 0.937636761487965\n",
      "Score on X-test with Y-test: 0.5633187772925764\n",
      "max_depth: 12\n",
      "Score on X-train with Y-train: 0.962800875273523\n",
      "Score on X-test with Y-test: 0.5807860262008734\n",
      "max_depth: 13\n",
      "Score on X-train with Y-train: 0.9792122538293216\n",
      "Score on X-test with Y-test: 0.5414847161572053\n",
      "max_depth: 14\n",
      "Score on X-train with Y-train: 0.9912472647702407\n",
      "Score on X-test with Y-test: 0.537117903930131\n",
      "max_depth: 15\n",
      "Score on X-train with Y-train: 0.9978118161925602\n",
      "Score on X-test with Y-test: 0.5676855895196506\n",
      "max_depth: 16\n",
      "Score on X-train with Y-train: 1.0\n",
      "Score on X-test with Y-test: 0.5633187772925764\n",
      "max_depth: 17\n",
      "Score on X-train with Y-train: 1.0\n",
      "Score on X-test with Y-test: 0.5764192139737991\n",
      "max_depth: 18\n",
      "Score on X-train with Y-train: 1.0\n",
      "Score on X-test with Y-test: 0.5502183406113537\n",
      "max_depth: 19\n",
      "Score on X-train with Y-train: 1.0\n",
      "Score on X-test with Y-test: 0.537117903930131\n",
      "max_depth: 20\n",
      "Score on X-train with Y-train: 1.0\n",
      "Score on X-test with Y-test: 0.5589519650655022\n",
      "max_depth: 21\n",
      "Score on X-train with Y-train: 1.0\n",
      "Score on X-test with Y-test: 0.5502183406113537\n",
      "max_depth: 22\n",
      "Score on X-train with Y-train: 1.0\n",
      "Score on X-test with Y-test: 0.5414847161572053\n",
      "max_depth: 23\n",
      "Score on X-train with Y-train: 1.0\n",
      "Score on X-test with Y-test: 0.5633187772925764\n",
      "max_depth: 24\n",
      "Score on X-train with Y-train: 1.0\n",
      "Score on X-test with Y-test: 0.5283842794759825\n",
      "max_depth: 25\n",
      "Score on X-train with Y-train: 1.0\n",
      "Score on X-test with Y-test: 0.5458515283842795\n",
      "max_depth: 26\n",
      "Score on X-train with Y-train: 1.0\n",
      "Score on X-test with Y-test: 0.5502183406113537\n",
      "max_depth: 27\n",
      "Score on X-train with Y-train: 1.0\n",
      "Score on X-test with Y-test: 0.5589519650655022\n",
      "max_depth: 28\n",
      "Score on X-train with Y-train: 1.0\n",
      "Score on X-test with Y-test: 0.5458515283842795\n",
      "max_depth: 29\n",
      "Score on X-train with Y-train: 1.0\n",
      "Score on X-test with Y-test: 0.5502183406113537\n",
      "max_depth: 30\n",
      "Score on X-train with Y-train: 1.0\n",
      "Score on X-test with Y-test: 0.5502183406113537\n",
      "max_depth: 31\n",
      "Score on X-train with Y-train: 1.0\n",
      "Score on X-test with Y-test: 0.5327510917030568\n",
      "max_depth: 32\n",
      "Score on X-train with Y-train: 1.0\n",
      "Score on X-test with Y-test: 0.5458515283842795\n",
      "max_depth: 33\n",
      "Score on X-train with Y-train: 1.0\n",
      "Score on X-test with Y-test: 0.5502183406113537\n",
      "max_depth: 34\n",
      "Score on X-train with Y-train: 1.0\n",
      "Score on X-test with Y-test: 0.5458515283842795\n",
      "max_depth: 35\n",
      "Score on X-train with Y-train: 1.0\n",
      "Score on X-test with Y-test: 0.5458515283842795\n",
      "max_depth: 36\n",
      "Score on X-train with Y-train: 1.0\n",
      "Score on X-test with Y-test: 0.5458515283842795\n",
      "max_depth: 37\n",
      "Score on X-train with Y-train: 1.0\n",
      "Score on X-test with Y-test: 0.5458515283842795\n",
      "max_depth: 38\n",
      "Score on X-train with Y-train: 1.0\n",
      "Score on X-test with Y-test: 0.5414847161572053\n",
      "max_depth: 39\n",
      "Score on X-train with Y-train: 1.0\n",
      "Score on X-test with Y-test: 0.5458515283842795\n",
      "max_depth: 40\n",
      "Score on X-train with Y-train: 1.0\n",
      "Score on X-test with Y-test: 0.5414847161572053\n",
      "max_depth: 41\n",
      "Score on X-train with Y-train: 1.0\n",
      "Score on X-test with Y-test: 0.537117903930131\n",
      "max_depth: 42\n",
      "Score on X-train with Y-train: 1.0\n",
      "Score on X-test with Y-test: 0.5414847161572053\n",
      "max_depth: 43\n",
      "Score on X-train with Y-train: 1.0\n",
      "Score on X-test with Y-test: 0.5414847161572053\n",
      "max_depth: 44\n",
      "Score on X-train with Y-train: 1.0\n",
      "Score on X-test with Y-test: 0.5414847161572053\n",
      "max_depth: 45\n",
      "Score on X-train with Y-train: 1.0\n",
      "Score on X-test with Y-test: 0.537117903930131\n",
      "max_depth: 46\n",
      "Score on X-train with Y-train: 1.0\n",
      "Score on X-test with Y-test: 0.5545851528384279\n",
      "max_depth: 47\n",
      "Score on X-train with Y-train: 1.0\n",
      "Score on X-test with Y-test: 0.5414847161572053\n",
      "max_depth: 48\n",
      "Score on X-train with Y-train: 1.0\n",
      "Score on X-test with Y-test: 0.5458515283842795\n",
      "max_depth: 49\n",
      "Score on X-train with Y-train: 1.0\n",
      "Score on X-test with Y-test: 0.5545851528384279\n",
      "max_depth: 50\n",
      "Score on X-train with Y-train: 1.0\n",
      "Score on X-test with Y-test: 0.537117903930131\n",
      "max_depth: 51\n",
      "Score on X-train with Y-train: 1.0\n",
      "Score on X-test with Y-test: 0.5414847161572053\n",
      "max_depth: 52\n",
      "Score on X-train with Y-train: 1.0\n",
      "Score on X-test with Y-test: 0.537117903930131\n",
      "max_depth: 53\n",
      "Score on X-train with Y-train: 1.0\n",
      "Score on X-test with Y-test: 0.5327510917030568\n",
      "max_depth: 54\n",
      "Score on X-train with Y-train: 1.0\n",
      "Score on X-test with Y-test: 0.5676855895196506\n",
      "max_depth: 55\n",
      "Score on X-train with Y-train: 1.0\n",
      "Score on X-test with Y-test: 0.5589519650655022\n",
      "max_depth: 56\n",
      "Score on X-train with Y-train: 1.0\n",
      "Score on X-test with Y-test: 0.5633187772925764\n",
      "max_depth: 57\n",
      "Score on X-train with Y-train: 1.0\n",
      "Score on X-test with Y-test: 0.5458515283842795\n",
      "max_depth: 58\n",
      "Score on X-train with Y-train: 1.0\n",
      "Score on X-test with Y-test: 0.5720524017467249\n",
      "max_depth: 59\n",
      "Score on X-train with Y-train: 1.0\n",
      "Score on X-test with Y-test: 0.5458515283842795\n",
      "max_depth: 60\n",
      "Score on X-train with Y-train: 1.0\n",
      "Score on X-test with Y-test: 0.5283842794759825\n",
      "max_depth: 61\n",
      "Score on X-train with Y-train: 1.0\n",
      "Score on X-test with Y-test: 0.5589519650655022\n",
      "max_depth: 62\n",
      "Score on X-train with Y-train: 1.0\n",
      "Score on X-test with Y-test: 0.537117903930131\n",
      "max_depth: 63\n",
      "Score on X-train with Y-train: 1.0\n",
      "Score on X-test with Y-test: 0.5633187772925764\n",
      "max_depth: 64\n",
      "Score on X-train with Y-train: 1.0\n",
      "Score on X-test with Y-test: 0.5283842794759825\n",
      "max_depth: 65\n",
      "Score on X-train with Y-train: 1.0\n",
      "Score on X-test with Y-test: 0.5502183406113537\n",
      "max_depth: 66\n",
      "Score on X-train with Y-train: 1.0\n",
      "Score on X-test with Y-test: 0.5589519650655022\n",
      "max_depth: 67\n",
      "Score on X-train with Y-train: 1.0\n",
      "Score on X-test with Y-test: 0.5676855895196506\n",
      "max_depth: 68\n",
      "Score on X-train with Y-train: 1.0\n",
      "Score on X-test with Y-test: 0.5414847161572053\n",
      "max_depth: 69\n",
      "Score on X-train with Y-train: 1.0\n",
      "Score on X-test with Y-test: 0.5414847161572053\n",
      "max_depth: 70\n",
      "Score on X-train with Y-train: 1.0\n",
      "Score on X-test with Y-test: 0.5458515283842795\n",
      "max_depth: 71\n",
      "Score on X-train with Y-train: 1.0\n",
      "Score on X-test with Y-test: 0.5589519650655022\n",
      "max_depth: 72\n",
      "Score on X-train with Y-train: 1.0\n",
      "Score on X-test with Y-test: 0.5589519650655022\n",
      "max_depth: 73\n",
      "Score on X-train with Y-train: 1.0\n",
      "Score on X-test with Y-test: 0.5545851528384279\n",
      "max_depth: 74\n",
      "Score on X-train with Y-train: 1.0\n",
      "Score on X-test with Y-test: 0.537117903930131\n",
      "max_depth: 75\n",
      "Score on X-train with Y-train: 1.0\n",
      "Score on X-test with Y-test: 0.5414847161572053\n",
      "max_depth: 76\n",
      "Score on X-train with Y-train: 1.0\n",
      "Score on X-test with Y-test: 0.5414847161572053\n",
      "max_depth: 77\n",
      "Score on X-train with Y-train: 1.0\n",
      "Score on X-test with Y-test: 0.5502183406113537\n",
      "max_depth: 78\n",
      "Score on X-train with Y-train: 1.0\n",
      "Score on X-test with Y-test: 0.5458515283842795\n",
      "max_depth: 79\n",
      "Score on X-train with Y-train: 1.0\n",
      "Score on X-test with Y-test: 0.537117903930131\n",
      "max_depth: 80\n",
      "Score on X-train with Y-train: 1.0\n",
      "Score on X-test with Y-test: 0.5589519650655022\n",
      "max_depth: 81\n",
      "Score on X-train with Y-train: 1.0\n",
      "Score on X-test with Y-test: 0.5458515283842795\n",
      "max_depth: 82\n",
      "Score on X-train with Y-train: 1.0\n",
      "Score on X-test with Y-test: 0.5589519650655022\n",
      "max_depth: 83\n",
      "Score on X-train with Y-train: 1.0\n",
      "Score on X-test with Y-test: 0.5720524017467249\n",
      "max_depth: 84\n",
      "Score on X-train with Y-train: 1.0\n",
      "Score on X-test with Y-test: 0.5458515283842795\n",
      "max_depth: 85\n",
      "Score on X-train with Y-train: 1.0\n",
      "Score on X-test with Y-test: 0.5676855895196506\n",
      "max_depth: 86\n",
      "Score on X-train with Y-train: 1.0\n",
      "Score on X-test with Y-test: 0.5502183406113537\n",
      "max_depth: 87\n",
      "Score on X-train with Y-train: 1.0\n",
      "Score on X-test with Y-test: 0.5545851528384279\n",
      "max_depth: 88\n",
      "Score on X-train with Y-train: 1.0\n",
      "Score on X-test with Y-test: 0.5545851528384279\n",
      "max_depth: 89\n",
      "Score on X-train with Y-train: 1.0\n",
      "Score on X-test with Y-test: 0.5502183406113537\n",
      "max_depth: 90\n",
      "Score on X-train with Y-train: 1.0\n",
      "Score on X-test with Y-test: 0.5327510917030568\n",
      "max_depth: 91\n",
      "Score on X-train with Y-train: 1.0\n",
      "Score on X-test with Y-test: 0.5502183406113537\n",
      "max_depth: 92\n",
      "Score on X-train with Y-train: 1.0\n",
      "Score on X-test with Y-test: 0.5676855895196506\n",
      "max_depth: 93\n",
      "Score on X-train with Y-train: 1.0\n",
      "Score on X-test with Y-test: 0.5327510917030568\n",
      "max_depth: 94\n",
      "Score on X-train with Y-train: 1.0\n",
      "Score on X-test with Y-test: 0.5589519650655022\n",
      "max_depth: 95\n",
      "Score on X-train with Y-train: 1.0\n",
      "Score on X-test with Y-test: 0.5545851528384279\n",
      "max_depth: 96\n",
      "Score on X-train with Y-train: 1.0\n",
      "Score on X-test with Y-test: 0.5633187772925764\n",
      "max_depth: 97\n",
      "Score on X-train with Y-train: 1.0\n",
      "Score on X-test with Y-test: 0.5589519650655022\n",
      "max_depth: 98\n",
      "Score on X-train with Y-train: 1.0\n",
      "Score on X-test with Y-test: 0.5633187772925764\n",
      "max_depth: 99\n",
      "Score on X-train with Y-train: 1.0\n",
      "Score on X-test with Y-test: 0.5589519650655022\n"
     ]
    }
   ],
   "source": [
    "from sklearn.tree import DecisionTreeClassifier\n",
    "\n",
    "max_acc = 0 \n",
    "at_depth = -1\n",
    "\n",
    "for i in range(2, 100):\n",
    "    dt_classifier = DecisionTreeClassifier(max_depth=i)\n",
    "    dt_classifier.fit(X_train, y_train)\n",
    "    print(\"max_depth:\", i)\n",
    "    print(\"Score on X-train with Y-train:\", dt_classifier.score(X_train, y_train))\n",
    "    y_pred = dt_classifier.predict(X_test)\n",
    "    test_accuracy = accuracy_score(y_test, y_pred)\n",
    "    print(\"Score on X-test with Y-test:\", test_accuracy)\n",
    "    if test_accuracy > max_acc:\n",
    "        max_acc = test_accuracy\n",
    "        at_depth = i\n",
    "dtc_ = max_acc    "
   ]
  },
  {
   "cell_type": "code",
   "execution_count": 317,
   "metadata": {},
   "outputs": [
    {
     "name": "stdout",
     "output_type": "stream",
     "text": [
      "0.5807860262008734\n",
      "12\n"
     ]
    }
   ],
   "source": [
    "print (max_acc)\n",
    "print (at_depth)\n",
    "dt_classifier = DecisionTreeClassifier(max_depth=at_depth)"
   ]
  },
  {
   "cell_type": "code",
   "execution_count": 318,
   "metadata": {},
   "outputs": [
    {
     "data": {
      "image/png": "[encoded data removed]",
      "text/plain": [
       "<Figure size 640x480 with 1 Axes>"
      ]
     },
     "metadata": {},
     "output_type": "display_data"
    }
   ],
   "source": [
    "\n",
    "t_range = list(range(1,100))\n",
    "scores = []\n",
    "for k in t_range:\n",
    "    dt = DecisionTreeClassifier(max_depth=k)\n",
    "    dt.fit(X, y)\n",
    "    y_pred = dt.predict(X)\n",
    "    scores.append(metrics.accuracy_score(y, y_pred))\n",
    "    \n",
    "plt.plot(t_range, scores)\n",
    "plt.xlabel('depth for dst')\n",
    "plt.ylabel('Accuracy Score')\n",
    "plt.title('Accuracy Scores for depth of decision tree')\n",
    "plt.show()"
   ]
  },
  {
   "cell_type": "markdown",
   "metadata": {},
   "source": [
    "## SVC"
   ]
  },
  {
   "cell_type": "code",
   "execution_count": 319,
   "metadata": {},
   "outputs": [
    {
     "name": "stdout",
     "output_type": "stream",
     "text": [
      "Score the X-train with Y-train is :  0.6017505470459519\n",
      "Score the X-test  with Y-test  is :  0.5414847161572053\n",
      " Model Evaluation Decision Tree : accuracy score  0.5414847161572053\n",
      "Score the X-train with Y-train is :  0.824945295404814\n",
      "Score the X-test  with Y-test  is :  0.5633187772925764\n",
      " Model Evaluation Decision Tree : accuracy score  0.5633187772925764\n",
      "Score the X-train with Y-train is :  0.9102844638949672\n",
      "Score the X-test  with Y-test  is :  0.6593886462882096\n",
      " Model Evaluation Decision Tree : accuracy score  0.6593886462882096\n",
      "Score the X-train with Y-train is :  0.48358862144420134\n",
      "Score the X-test  with Y-test  is :  0.4585152838427948\n",
      " Model Evaluation Decision Tree : accuracy score  0.4585152838427948\n",
      "max_accuracy =  0.6593886462882096  kernal =  rbf\n"
     ]
    }
   ],
   "source": [
    "from sklearn.svm import SVC\n",
    "kernal_list = ['linear', 'poly', 'rbf', 'sigmoid']\n",
    "at_kernal = \"abc\"\n",
    "maxac = -1\n",
    "for i in kernal_list:\n",
    "    svc_model=SVC(C=50,kernel=i)\n",
    "    svc_model.fit(X_train,y_train)\n",
    "    y_pred_svc =svc_model.predict(X_test)\n",
    "    print(\"Score the X-train with Y-train is : \", svc_model.score(X_train,y_train))\n",
    "    print(\"Score the X-test  with Y-test  is : \", svc_model.score(X_test,y_test))\n",
    "    print(\" Model Evaluation Decision Tree : accuracy score \" , accuracy_score(y_test,y_pred_svc))\n",
    "    if accuracy_score(y_test,y_pred_svc) > maxac:\n",
    "        maxac = accuracy_score(y_test,y_pred_svc)\n",
    "        at_kernal = i\n",
    "print (\"max_accuracy = \" , maxac ,\" kernal = \" , at_kernal)\n",
    "svc_model = SVC(C=50,)\n",
    "svm_ = maxac"
   ]
  },
  {
   "cell_type": "markdown",
   "metadata": {},
   "source": [
    "## Random Forest Classifier"
   ]
  },
  {
   "cell_type": "code",
   "execution_count": 320,
   "metadata": {},
   "outputs": [
    {
     "name": "stdout",
     "output_type": "stream",
     "text": [
      "Score on X-train with Y-train: 1.0\n",
      "Score on X-test with Y-test: 0.6724890829694323\n"
     ]
    }
   ],
   "source": [
    "from sklearn.ensemble import RandomForestClassifier\n",
    "rnd = RandomForestClassifier()\n",
    "rnd.fit(X_train, y_train)\n",
    "\n",
    "print(\"Score on X-train with Y-train:\", rnd.score(X_train, y_train))\n",
    "y_pred_rnd = rnd.predict(X_test)\n",
    "test_accuracy = accuracy_score(y_test, y_pred_rnd)\n",
    "print(\"Score on X-test with Y-test:\", test_accuracy)\n",
    "rfc_= test_accuracy"
   ]
  },
  {
   "cell_type": "markdown",
   "metadata": {},
   "source": [
    "## Model building results "
   ]
  },
  {
   "cell_type": "code",
   "execution_count": 327,
   "metadata": {},
   "outputs": [
    {
     "data": {
      "image/png": "[encoded data removed]",
      "text/plain": [
       "<Figure size 1000x600 with 1 Axes>"
      ]
     },
     "metadata": {},
     "output_type": "display_data"
    }
   ],
   "source": [
    "models = ['Random Forest', 'Decision Tree', 'Logistic Regression', 'K-nearest Neighbor', 'SVM']\n",
    "accuracy_scores = [rfc_, dtc_, lr_, knn_, svm_]\n",
    "\n",
    "# Set the width and height of the plot image\n",
    "fig, ax = plt.subplots(figsize=(10, 6))  # Adjust the width and height as needed\n",
    "\n",
    "# Create an array of indices for x-axis positions\n",
    "x = np.arange(len(models))\n",
    "\n",
    "# Increase the width of the bars\n",
    "bar_width = 0.5  # Adjust the width as needed\n",
    "\n",
    "# Create a bar plot with string labels on the x-axis\n",
    "plt.bar(x, accuracy_scores, tick_label=models, width=bar_width)\n",
    "\n",
    "# Add labels and title\n",
    "plt.xlabel('Models')\n",
    "plt.ylabel('Accuracy Score')\n",
    "plt.title('Accuracy Score vs Models')\n",
    "\n",
    "# Show the plot\n",
    "plt.show()\n",
    " \n"
   ]
  },
  {
   "cell_type": "code",
   "execution_count": 328,
   "metadata": {},
   "outputs": [
    {
     "data": {
      "text/plain": [
       "[0.6724890829694323,\n",
       " 0.5807860262008734,\n",
       " 0.5589519650655022,\n",
       " 0.5938864628820961,\n",
       " 0.6593886462882096]"
      ]
     },
     "execution_count": 328,
     "metadata": {},
     "output_type": "execute_result"
    }
   ],
   "source": [
    "accuracy_scores"
   ]
  },
  {
   "cell_type": "markdown",
   "metadata": {},
   "source": [
    "## Linear Model"
   ]
  },
  {
   "cell_type": "code",
   "execution_count": null,
   "metadata": {},
   "outputs": [],
   "source": [
    "# Score the X-train with Y-train is :  0.6094091903719913\n",
    "# Score the X-test  with Y-test  is :  0.5589519650655022\n",
    "#  Model Evaluation Logistic R : mean absolute error is  0.48034934497816595\n",
    "#  Model Evaluation Logistic R : mean squared  error is  0.5589519650655022\n",
    "#  Model Evaluation Logistic R : accuracy score  0.5589519650655022"
   ]
  },
  {
   "cell_type": "markdown",
   "metadata": {},
   "source": [
    "## K-nearest neighbour"
   ]
  },
  {
   "cell_type": "code",
   "execution_count": null,
   "metadata": {},
   "outputs": [],
   "source": [
    "# Maximum accuracy  =  0.5938864628820961 at_neighbours =  17"
   ]
  },
  {
   "cell_type": "code",
   "execution_count": null,
   "metadata": {},
   "outputs": [],
   "source": []
  },
  {
   "cell_type": "code",
   "execution_count": null,
   "metadata": {},
   "outputs": [],
   "source": []
  }
 ],
 "metadata": {
  "kernelspec": {
   "display_name": "Python 3",
   "language": "python",
   "name": "python3"
  },
  "language_info": {
   "codemirror_mode": {
    "name": "ipython",
    "version": 3
   },
   "file_extension": ".py",
   "mimetype": "text/x-python",
   "name": "python",
   "nbconvert_exporter": "python",
   "pygments_lexer": "ipython3",
   "version": "3.11.4"
  }
 },
 "nbformat": 4,
 "nbformat_minor": 2
}
